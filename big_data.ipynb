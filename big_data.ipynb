{
 "cells": [
  {
   "cell_type": "code",
   "execution_count": 7,
   "metadata": {},
   "outputs": [],
   "source": [
    "import requests\n",
    "import tarfile\n",
    "from os import path"
   ]
  },
  {
   "cell_type": "code",
   "execution_count": 8,
   "metadata": {},
   "outputs": [
    {
     "name": "stdout",
     "output_type": "stream",
     "text": [
      "[WinError 2] The system cannot find the file specified: 'BigData'\n",
      "f:\\CodingEnvironment\\BigData\n"
     ]
    }
   ],
   "source": [
    "cd BigData"
   ]
  },
  {
   "cell_type": "code",
   "execution_count": 11,
   "metadata": {},
   "outputs": [],
   "source": [
    "!set HADOOP_HOME=F:\\CodingEnvironment\\hadoop-3.4.1-src\n",
    "!set SPARK_HOME=F:\\CodingEnvironment\\spark-3.5.3-bin-hadoop3\n",
    "!set PATH=%PATH%;%SPARK_HOME%\\bin;%HADOOP_HOME%\\bin"
   ]
  },
  {
   "cell_type": "code",
   "execution_count": 1,
   "metadata": {},
   "outputs": [
    {
     "name": "stdout",
     "output_type": "stream",
     "text": [
      "%HADOOP_HOME%\n"
     ]
    }
   ],
   "source": [
    "!echo %HADOOP_HOME%"
   ]
  },
  {
   "cell_type": "code",
   "execution_count": 2,
   "metadata": {},
   "outputs": [
    {
     "name": "stderr",
     "output_type": "stream",
     "text": [
      "The system cannot find the file C:\\ProgramData\\Oracle\\Java\\javapath\\java.exe.\n"
     ]
    }
   ],
   "source": [
    "!java --version"
   ]
  },
  {
   "cell_type": "code",
   "execution_count": null,
   "metadata": {},
   "outputs": [
    {
     "name": "stderr",
     "output_type": "stream",
     "text": [
      "'ls' is not recognized as an internal or external command,\n",
      "operable program or batch file.\n"
     ]
    }
   ],
   "source": []
  },
  {
   "cell_type": "code",
   "execution_count": null,
   "metadata": {},
   "outputs": [],
   "source": [
    "import requests\n",
    "fname = 'airline.tar.gz'\n",
    "url = 'https://dax-cdn.cdn.appdomain.cloud/dax-airline/1.0.1/' + fname\n",
    "r = requests.get(url)\n",
    "open(fname , 'wb').write(r.content)"
   ]
  },
  {
   "cell_type": "code",
   "execution_count": null,
   "metadata": {},
   "outputs": [],
   "source": [
    "tar = tarfile.open(fname)\n",
    "tar.extractall()\n",
    "tar.close()"
   ]
  },
  {
   "cell_type": "code",
   "execution_count": 12,
   "metadata": {},
   "outputs": [
    {
     "ename": "ModuleNotFoundError",
     "evalue": "No module named 'pyspark'",
     "output_type": "error",
     "traceback": [
      "\u001b[1;31m---------------------------------------------------------------------------\u001b[0m",
      "\u001b[1;31mModuleNotFoundError\u001b[0m                       Traceback (most recent call last)",
      "\u001b[1;32m~\\AppData\\Local\\Temp/ipykernel_5372/3235221318.py\u001b[0m in \u001b[0;36m<module>\u001b[1;34m\u001b[0m\n\u001b[1;32m----> 1\u001b[1;33m \u001b[1;32mfrom\u001b[0m \u001b[0mpyspark\u001b[0m\u001b[1;33m.\u001b[0m\u001b[0msql\u001b[0m \u001b[1;32mimport\u001b[0m \u001b[0mSparkSession\u001b[0m\u001b[1;33m\u001b[0m\u001b[1;33m\u001b[0m\u001b[0m\n\u001b[0m\u001b[0;32m      2\u001b[0m \u001b[1;33m\u001b[0m\u001b[0m\n\u001b[0;32m      3\u001b[0m \u001b[0mspark\u001b[0m \u001b[1;33m=\u001b[0m \u001b[0mSparkSession\u001b[0m\u001b[1;33m.\u001b[0m\u001b[0mbuilder\u001b[0m\u001b[0;31m \u001b[0m\u001b[0;31m\\\u001b[0m\u001b[1;33m\u001b[0m\u001b[1;33m\u001b[0m\u001b[0m\n\u001b[0;32m      4\u001b[0m     \u001b[1;33m.\u001b[0m\u001b[0mappName\u001b[0m\u001b[1;33m(\u001b[0m\u001b[1;34m\"MyApp\"\u001b[0m\u001b[1;33m)\u001b[0m\u001b[0;31m \u001b[0m\u001b[0;31m\\\u001b[0m\u001b[1;33m\u001b[0m\u001b[1;33m\u001b[0m\u001b[0m\n\u001b[0;32m      5\u001b[0m     \u001b[1;33m.\u001b[0m\u001b[0mgetOrCreate\u001b[0m\u001b[1;33m(\u001b[0m\u001b[1;33m)\u001b[0m\u001b[1;33m\u001b[0m\u001b[1;33m\u001b[0m\u001b[0m\n",
      "\u001b[1;31mModuleNotFoundError\u001b[0m: No module named 'pyspark'"
     ]
    }
   ],
   "source": [
    "from pyspark.sql import SparkSession\n",
    "\n",
    "spark = SparkSession.builder \\\n",
    "    .appName(\"MyApp\") \\\n",
    "    .getOrCreate()"
   ]
  },
  {
   "cell_type": "code",
   "execution_count": 22,
   "metadata": {},
   "outputs": [
    {
     "name": "stdout",
     "output_type": "stream",
     "text": [
      "CONTAINER ID   IMAGE           COMMAND                  CREATED          STATUS          PORTS                                            NAMES\n",
      "f541c465d56b   bitnami/spark   \"/opt/bitnami/script…\"   18 minutes ago   Up 18 minutes   0.0.0.0:7077->7077/tcp, 0.0.0.0:8080->8080/tcp   spark-container\n"
     ]
    }
   ],
   "source": [
    "!docker ps"
   ]
  },
  {
   "cell_type": "code",
   "execution_count": 23,
   "metadata": {},
   "outputs": [],
   "source": [
    "!telnet 192.168.4.58 7077"
   ]
  },
  {
   "cell_type": "code",
   "execution_count": 1,
   "metadata": {},
   "outputs": [
    {
     "name": "stdout",
     "output_type": "stream",
     "text": [
      "   Year  Quarter  Month  DayofMonth  DayOfWeek  FlightDate Reporting_Airline  \\\n",
      "0  1998        1      1           2          5  1998-01-02                NW   \n",
      "1  2009        2      5          28          4  2009-05-28                FL   \n",
      "2  2013        2      6          29          6  2013-06-29                MQ   \n",
      "3  2010        3      8          31          2  2010-08-31                DL   \n",
      "4  2006        1      1          15          7  2006-01-15                US   \n",
      "\n",
      "   DOT_ID_Reporting_Airline IATA_CODE_Reporting_Airline Tail_Number  ...  \\\n",
      "0                     19386                          NW      N297US  ...   \n",
      "1                     20437                          FL      N946AT  ...   \n",
      "2                     20398                          MQ      N665MQ  ...   \n",
      "3                     19790                          DL      N6705Y  ...   \n",
      "4                     20355                          US      N504AU  ...   \n",
      "\n",
      "   Div4WheelsOff  Div4TailNum  Div5Airport  Div5AirportID Div5AirportSeqID  \\\n",
      "0            NaN          NaN          NaN            NaN              NaN   \n",
      "1            NaN          NaN          NaN            NaN              NaN   \n",
      "2            NaN          NaN          NaN            NaN              NaN   \n",
      "3            NaN          NaN          NaN            NaN              NaN   \n",
      "4            NaN          NaN          NaN            NaN              NaN   \n",
      "\n",
      "  Div5WheelsOn Div5TotalGTime  Div5LongestGTime Div5WheelsOff  Div5TailNum  \n",
      "0          NaN            NaN               NaN           NaN          NaN  \n",
      "1          NaN            NaN               NaN           NaN          NaN  \n",
      "2          NaN            NaN               NaN           NaN          NaN  \n",
      "3          NaN            NaN               NaN           NaN          NaN  \n",
      "4          NaN            NaN               NaN           NaN          NaN  \n",
      "\n",
      "[5 rows x 109 columns]\n"
     ]
    }
   ],
   "source": [
    "import pandas as pd\n",
    "\n",
    "# Specify the path to your CSV file\n",
    "data_path = 'F:\\\\CodingEnvironment\\\\BigData\\\\airline_2m.csv'\n",
    "\n",
    "# Read only the first 5 rows of the file\n",
    "df = pd.read_csv(\n",
    "    data_path, \n",
    "    encoding=\"ISO-8859-1\", \n",
    "    dtype={'Div1Airport': str, 'Div1TailNum': str, 'Div2Airport': str, 'Div2TailNum': str},\n",
    "    nrows=5\n",
    ")\n",
    "\n",
    "# Preview the first 5 lines\n",
    "print(df)\n"
   ]
  },
  {
   "cell_type": "code",
   "execution_count": null,
   "metadata": {},
   "outputs": [
    {
     "name": "stdout",
     "output_type": "stream",
     "text": [
      "Year                2009\n",
      "Quarter                2\n",
      "Month                  5\n",
      "DayofMonth            28\n",
      "DayOfWeek              4\n",
      "                    ... \n",
      "Div5WheelsOn         NaN\n",
      "Div5TotalGTime       NaN\n",
      "Div5LongestGTime     NaN\n",
      "Div5WheelsOff        NaN\n",
      "Div5TailNum          NaN\n",
      "Name: 1, Length: 109, dtype: object\n"
     ]
    }
   ],
   "source": [
    "pd.set_option('display.max_colwidth', None)  # No truncation for wide columns\n",
    "pd.set_option('display.max_columns', None)"
   ]
  },
  {
   "cell_type": "code",
   "execution_count": 6,
   "metadata": {},
   "outputs": [
    {
     "name": "stdout",
     "output_type": "stream",
     "text": [
      "Year                                        2009\n",
      "Quarter                                        2\n",
      "Month                                          5\n",
      "DayofMonth                                    28\n",
      "DayOfWeek                                      4\n",
      "FlightDate                            2009-05-28\n",
      "Reporting_Airline                             FL\n",
      "DOT_ID_Reporting_Airline                   20437\n",
      "IATA_CODE_Reporting_Airline                   FL\n",
      "Tail_Number                               N946AT\n",
      "Flight_Number_Reporting_Airline              671\n",
      "OriginAirportID                            13342\n",
      "OriginAirportSeqID                       1334202\n",
      "OriginCityMarketID                         33342\n",
      "Origin                                       MKE\n",
      "OriginCityName                     Milwaukee, WI\n",
      "OriginState                                   WI\n",
      "OriginStateFips                               55\n",
      "OriginStateName                        Wisconsin\n",
      "OriginWac                                     45\n",
      "DestAirportID                              13204\n",
      "DestAirportSeqID                         1320401\n",
      "DestCityMarketID                           31454\n",
      "Dest                                         MCO\n",
      "DestCityName                         Orlando, FL\n",
      "DestState                                     FL\n",
      "DestStateFips                                 12\n",
      "DestStateName                            Florida\n",
      "DestWac                                       33\n",
      "CRSDepTime                                  1204\n",
      "DepTime                                     1202\n",
      "DepDelay                                    -2.0\n",
      "DepDelayMinutes                              0.0\n",
      "DepDel15                                     0.0\n",
      "DepartureDelayGroups                          -1\n",
      "DepTimeBlk                             1200-1259\n",
      "TaxiOut                                     10.0\n",
      "WheelsOff                                   1212\n",
      "WheelsOn                                    1533\n",
      "TaxiIn                                       8.0\n",
      "CRSArrTime                                  1541\n",
      "ArrTime                                     1541\n",
      "ArrDelay                                     0.0\n",
      "ArrDelayMinutes                              0.0\n",
      "ArrDel15                                     0.0\n",
      "ArrivalDelayGroups                             0\n",
      "ArrTimeBlk                             1500-1559\n",
      "Cancelled                                    0.0\n",
      "CancellationCode                             NaN\n",
      "Diverted                                     0.0\n",
      "CRSElapsedTime                             157.0\n",
      "ActualElapsedTime                          159.0\n",
      "AirTime                                    141.0\n",
      "Flights                                      1.0\n",
      "Distance                                  1066.0\n",
      "DistanceGroup                                  5\n",
      "CarrierDelay                                 NaN\n",
      "WeatherDelay                                 NaN\n",
      "NASDelay                                     NaN\n",
      "SecurityDelay                                NaN\n",
      "LateAircraftDelay                            NaN\n",
      "FirstDepTime                                 NaN\n",
      "TotalAddGTime                                NaN\n",
      "LongestAddGTime                              NaN\n",
      "DivAirportLandings                           0.0\n",
      "DivReachedDest                               NaN\n",
      "DivActualElapsedTime                         NaN\n",
      "DivArrDelay                                  NaN\n",
      "DivDistance                                  NaN\n",
      "Div1Airport                                  NaN\n",
      "Div1AirportID                                NaN\n",
      "Div1AirportSeqID                             NaN\n",
      "Div1WheelsOn                                 NaN\n",
      "Div1TotalGTime                               NaN\n",
      "Div1LongestGTime                             NaN\n",
      "Div1WheelsOff                                NaN\n",
      "Div1TailNum                                  NaN\n",
      "Div2Airport                                  NaN\n",
      "Div2AirportID                                NaN\n",
      "Div2AirportSeqID                             NaN\n",
      "Div2WheelsOn                                 NaN\n",
      "Div2TotalGTime                               NaN\n",
      "Div2LongestGTime                             NaN\n",
      "Div2WheelsOff                                NaN\n",
      "Div2TailNum                                  NaN\n",
      "Div3Airport                                  NaN\n",
      "Div3AirportID                                NaN\n",
      "Div3AirportSeqID                             NaN\n",
      "Div3WheelsOn                                 NaN\n",
      "Div3TotalGTime                               NaN\n",
      "Div3LongestGTime                             NaN\n",
      "Div3WheelsOff                                NaN\n",
      "Div3TailNum                                  NaN\n",
      "Div4Airport                                  NaN\n",
      "Div4AirportID                                NaN\n",
      "Div4AirportSeqID                             NaN\n",
      "Div4WheelsOn                                 NaN\n",
      "Div4TotalGTime                               NaN\n",
      "Div4LongestGTime                             NaN\n",
      "Div4WheelsOff                                NaN\n",
      "Div4TailNum                                  NaN\n",
      "Div5Airport                                  NaN\n",
      "Div5AirportID                                NaN\n",
      "Div5AirportSeqID                             NaN\n",
      "Div5WheelsOn                                 NaN\n",
      "Div5TotalGTime                               NaN\n",
      "Div5LongestGTime                             NaN\n",
      "Div5WheelsOff                                NaN\n",
      "Div5TailNum                                  NaN\n",
      "Name: 1, dtype: object\n"
     ]
    }
   ],
   "source": [
    "import pandas as pd\n",
    "\n",
    "# Set the display options to show all columns\n",
    "pd.set_option('display.max_columns', None)  # Show all columns\n",
    "pd.set_option('display.width', None)        # Ensure no line wrapping\n",
    "pd.set_option('display.max_rows', None)     # Show all rows, if necessary\n",
    "\n",
    "# Example: Print the first row\n",
    "print(df.iloc[1])\n"
   ]
  },
  {
   "cell_type": "code",
   "execution_count": 1,
   "metadata": {},
   "outputs": [
    {
     "name": "stdout",
     "output_type": "stream",
     "text": [
      "Files are being uploaded to GCS.\n"
     ]
    }
   ],
   "source": [
    "import requests\n",
    "import tarfile\n",
    "from io import BytesIO\n",
    "from concurrent.futures import ThreadPoolExecutor\n",
    "from google.cloud import storage\n",
    "\n",
    "# Function to upload to GCS\n",
    "def upload_to_gcs(bucket_name, blob_name, file_data):\n",
    "    client = storage.Client()\n",
    "    bucket = client.bucket(bucket_name)\n",
    "    blob = bucket.blob(blob_name)\n",
    "    blob.upload_from_file(file_data)\n",
    "\n",
    "# Bucket name and URL\n",
    "bucket_name = 'bk9999airline'  # Replace with your GCS bucket name\n",
    "file_url = 'https://dax-cdn.cdn.appdomain.cloud/dax-airline/1.0.1/airline_2m.tar.gz'\n",
    "\n",
    "# Step 1: Download the tar.gz file\n",
    "r = requests.get(file_url)\n",
    "r.raise_for_status()  # Ensure the request was successful\n",
    "tarball_data = BytesIO(r.content)  # Convert to a byte stream\n",
    "\n",
    "# Step 2: Extract the files from the tar.gz archive\n",
    "with tarfile.open(fileobj=tarball_data, mode='r:gz') as tar:\n",
    "    with ThreadPoolExecutor() as executor:\n",
    "        # Step 3: Upload files to GCS in parallel\n",
    "        for member in tar.getmembers():\n",
    "            if member.isfile():  # Only process files (ignore directories)\n",
    "                file_data = tar.extractfile(member)  # Get file data as a stream\n",
    "                blob_name = member.name  # Use the member name for GCS path\n",
    "                executor.submit(upload_to_gcs, bucket_name, blob_name, file_data)\n",
    "\n",
    "print(\"Files are being uploaded to GCS.\")"
   ]
  },
  {
   "cell_type": "code",
   "execution_count": null,
   "metadata": {},
   "outputs": [],
   "source": []
  }
 ],
 "metadata": {
  "kernelspec": {
   "display_name": "Python 3",
   "language": "python",
   "name": "python3"
  },
  "language_info": {
   "codemirror_mode": {
    "name": "ipython",
    "version": 3
   },
   "file_extension": ".py",
   "mimetype": "text/x-python",
   "name": "python",
   "nbconvert_exporter": "python",
   "pygments_lexer": "ipython3",
   "version": "3.11.9"
  }
 },
 "nbformat": 4,
 "nbformat_minor": 2
}
