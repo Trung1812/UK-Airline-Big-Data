{
 "cells": [
  {
   "cell_type": "code",
   "execution_count": 1,
   "metadata": {},
   "outputs": [
    {
     "name": "stderr",
     "output_type": "stream",
     "text": [
      "24/12/05 15:34:32 WARN Utils: Your hostname, MacBook-Air-cua-Pham-5.local resolves to a loopback address: 127.0.0.1; using 192.168.6.141 instead (on interface en0)\n",
      "24/12/05 15:34:32 WARN Utils: Set SPARK_LOCAL_IP if you need to bind to another address\n"
     ]
    },
    {
     "name": "stdout",
     "output_type": "stream",
     "text": [
      ":: loading settings :: url = jar:file:/Users/phamquangtrung/miniconda3/envs/big-data/lib/python3.13/site-packages/pyspark/jars/ivy-2.5.1.jar!/org/apache/ivy/core/settings/ivysettings.xml\n"
     ]
    },
    {
     "name": "stderr",
     "output_type": "stream",
     "text": [
      "Ivy Default Cache set to: /Users/phamquangtrung/.ivy2/cache\n",
      "The jars for the packages stored in: /Users/phamquangtrung/.ivy2/jars\n",
      "org.apache.spark#spark-sql-kafka-0-10_2.12 added as a dependency\n",
      ":: resolving dependencies :: org.apache.spark#spark-submit-parent-18eaa1bd-0c33-44b4-ab56-f4cace5b5845;1.0\n",
      "\tconfs: [default]\n",
      "\tfound org.apache.spark#spark-sql-kafka-0-10_2.12;3.3.0 in central\n",
      "\tfound org.apache.spark#spark-token-provider-kafka-0-10_2.12;3.3.0 in central\n",
      "\tfound org.apache.kafka#kafka-clients;2.8.1 in central\n",
      "\tfound org.lz4#lz4-java;1.8.0 in central\n",
      "\tfound org.xerial.snappy#snappy-java;1.1.8.4 in central\n",
      "\tfound org.slf4j#slf4j-api;1.7.32 in central\n",
      "\tfound org.apache.hadoop#hadoop-client-runtime;3.3.2 in central\n",
      "\tfound org.spark-project.spark#unused;1.0.0 in central\n",
      "\tfound org.apache.hadoop#hadoop-client-api;3.3.2 in central\n",
      "\tfound commons-logging#commons-logging;1.1.3 in central\n",
      "\tfound com.google.code.findbugs#jsr305;3.0.0 in central\n",
      "\tfound org.apache.commons#commons-pool2;2.11.1 in central\n",
      "downloading https://repo1.maven.org/maven2/org/apache/spark/spark-sql-kafka-0-10_2.12/3.3.0/spark-sql-kafka-0-10_2.12-3.3.0.jar ...\n",
      "\t[SUCCESSFUL ] org.apache.spark#spark-sql-kafka-0-10_2.12;3.3.0!spark-sql-kafka-0-10_2.12.jar (1638ms)\n",
      "downloading https://repo1.maven.org/maven2/org/apache/spark/spark-token-provider-kafka-0-10_2.12/3.3.0/spark-token-provider-kafka-0-10_2.12-3.3.0.jar ...\n",
      "\t[SUCCESSFUL ] org.apache.spark#spark-token-provider-kafka-0-10_2.12;3.3.0!spark-token-provider-kafka-0-10_2.12.jar (491ms)\n",
      "downloading https://repo1.maven.org/maven2/org/apache/kafka/kafka-clients/2.8.1/kafka-clients-2.8.1.jar ...\n",
      "\t[SUCCESSFUL ] org.apache.kafka#kafka-clients;2.8.1!kafka-clients.jar (9570ms)\n",
      "downloading https://repo1.maven.org/maven2/com/google/code/findbugs/jsr305/3.0.0/jsr305-3.0.0.jar ...\n",
      "\t[SUCCESSFUL ] com.google.code.findbugs#jsr305;3.0.0!jsr305.jar (406ms)\n",
      "downloading https://repo1.maven.org/maven2/org/apache/commons/commons-pool2/2.11.1/commons-pool2-2.11.1.jar ...\n",
      "\t[SUCCESSFUL ] org.apache.commons#commons-pool2;2.11.1!commons-pool2.jar (599ms)\n",
      "downloading https://repo1.maven.org/maven2/org/spark-project/spark/unused/1.0.0/unused-1.0.0.jar ...\n",
      "\t[SUCCESSFUL ] org.spark-project.spark#unused;1.0.0!unused.jar (354ms)\n",
      "downloading https://repo1.maven.org/maven2/org/apache/hadoop/hadoop-client-runtime/3.3.2/hadoop-client-runtime-3.3.2.jar ...\n",
      "\t[SUCCESSFUL ] org.apache.hadoop#hadoop-client-runtime;3.3.2!hadoop-client-runtime.jar (43654ms)\n",
      "downloading https://repo1.maven.org/maven2/org/lz4/lz4-java/1.8.0/lz4-java-1.8.0.jar ...\n",
      "\t[SUCCESSFUL ] org.lz4#lz4-java;1.8.0!lz4-java.jar (1264ms)\n",
      "downloading https://repo1.maven.org/maven2/org/xerial/snappy/snappy-java/1.1.8.4/snappy-java-1.1.8.4.jar ...\n",
      "\t[SUCCESSFUL ] org.xerial.snappy#snappy-java;1.1.8.4!snappy-java.jar(bundle) (9160ms)\n",
      "downloading https://repo1.maven.org/maven2/org/slf4j/slf4j-api/1.7.32/slf4j-api-1.7.32.jar ...\n",
      "\t[SUCCESSFUL ] org.slf4j#slf4j-api;1.7.32!slf4j-api.jar (440ms)\n",
      "downloading https://repo1.maven.org/maven2/org/apache/hadoop/hadoop-client-api/3.3.2/hadoop-client-api-3.3.2.jar ...\n",
      "\t[SUCCESSFUL ] org.apache.hadoop#hadoop-client-api;3.3.2!hadoop-client-api.jar (35336ms)\n",
      "downloading https://repo1.maven.org/maven2/commons-logging/commons-logging/1.1.3/commons-logging-1.1.3.jar ...\n",
      "\t[SUCCESSFUL ] commons-logging#commons-logging;1.1.3!commons-logging.jar (842ms)\n",
      ":: resolution report :: resolve 19222ms :: artifacts dl 103779ms\n",
      "\t:: modules in use:\n",
      "\tcom.google.code.findbugs#jsr305;3.0.0 from central in [default]\n",
      "\tcommons-logging#commons-logging;1.1.3 from central in [default]\n",
      "\torg.apache.commons#commons-pool2;2.11.1 from central in [default]\n",
      "\torg.apache.hadoop#hadoop-client-api;3.3.2 from central in [default]\n",
      "\torg.apache.hadoop#hadoop-client-runtime;3.3.2 from central in [default]\n",
      "\torg.apache.kafka#kafka-clients;2.8.1 from central in [default]\n",
      "\torg.apache.spark#spark-sql-kafka-0-10_2.12;3.3.0 from central in [default]\n",
      "\torg.apache.spark#spark-token-provider-kafka-0-10_2.12;3.3.0 from central in [default]\n",
      "\torg.lz4#lz4-java;1.8.0 from central in [default]\n",
      "\torg.slf4j#slf4j-api;1.7.32 from central in [default]\n",
      "\torg.spark-project.spark#unused;1.0.0 from central in [default]\n",
      "\torg.xerial.snappy#snappy-java;1.1.8.4 from central in [default]\n",
      "\t---------------------------------------------------------------------\n",
      "\t|                  |            modules            ||   artifacts   |\n",
      "\t|       conf       | number| search|dwnlded|evicted|| number|dwnlded|\n",
      "\t---------------------------------------------------------------------\n",
      "\t|      default     |   12  |   12  |   12  |   0   ||   12  |   12  |\n",
      "\t---------------------------------------------------------------------\n",
      ":: retrieving :: org.apache.spark#spark-submit-parent-18eaa1bd-0c33-44b4-ab56-f4cace5b5845\n",
      "\tconfs: [default]\n",
      "\t12 artifacts copied, 0 already retrieved (56631kB/112ms)\n",
      "24/12/05 15:36:36 WARN NativeCodeLoader: Unable to load native-hadoop library for your platform... using builtin-java classes where applicable\n",
      "Setting default log level to \"WARN\".\n",
      "To adjust logging level use sc.setLogLevel(newLevel). For SparkR, use setLogLevel(newLevel).\n"
     ]
    },
    {
     "data": {
      "text/html": [
       "\n",
       "            <div>\n",
       "                <p><b>SparkSession - in-memory</b></p>\n",
       "                \n",
       "        <div>\n",
       "            <p><b>SparkContext</b></p>\n",
       "\n",
       "            <p><a href=\"http://192.168.6.141:4040\">Spark UI</a></p>\n",
       "\n",
       "            <dl>\n",
       "              <dt>Version</dt>\n",
       "                <dd><code>v3.5.3</code></dd>\n",
       "              <dt>Master</dt>\n",
       "                <dd><code>local[*]</code></dd>\n",
       "              <dt>AppName</dt>\n",
       "                <dd><code>Streaming from Kafka</code></dd>\n",
       "            </dl>\n",
       "        </div>\n",
       "        \n",
       "            </div>\n",
       "        "
      ],
      "text/plain": [
       "<pyspark.sql.session.SparkSession at 0x10923a900>"
      ]
     },
     "execution_count": 1,
     "metadata": {},
     "output_type": "execute_result"
    },
    {
     "name": "stderr",
     "output_type": "stream",
     "text": [
      "24/12/05 15:36:48 WARN GarbageCollectionMetrics: To enable non-built-in garbage collector(s) List(G1 Concurrent GC), users should configure it(them) to spark.eventLog.gcMetrics.youngGenerationGarbageCollectors or spark.eventLog.gcMetrics.oldGenerationGarbageCollectors\n"
     ]
    }
   ],
   "source": [
    "from pyspark.sql import SparkSession\n",
    "\n",
    "spark = (\n",
    "    SparkSession \n",
    "    .builder \n",
    "    .appName(\"Streaming from Kafka\") \n",
    "    .config(\"spark.streaming.stopGracefullyOnShutdown\", True) \n",
    "    .config('spark.jars.packages', 'org.apache.spark:spark-sql-kafka-0-10_2.12:3.3.0')\n",
    "    .config(\"spark.sql.shuffle.partitions\", 4)\n",
    "    .master(\"local[*]\") \n",
    "    .getOrCreate()\n",
    ")\n",
    "\n",
    "spark"
   ]
  },
  {
   "cell_type": "code",
   "execution_count": 2,
   "metadata": {},
   "outputs": [],
   "source": [
    "kafka_df = (\n",
    "    spark\n",
    "    .readStream\n",
    "    .format(\"kafka\")\n",
    "    .option(\"kafka.bootstrap.servers\", \"localhost:9092\")\n",
    "    .option(\"subscribe\", \"flights\")\n",
    "    .option(\"startingOffsets\", \"earliest\")\n",
    "    .load()\n",
    ")"
   ]
  },
  {
   "cell_type": "code",
   "execution_count": 3,
   "metadata": {},
   "outputs": [
    {
     "name": "stdout",
     "output_type": "stream",
     "text": [
      "root\n",
      " |-- key: binary (nullable = true)\n",
      " |-- value: binary (nullable = true)\n",
      " |-- topic: string (nullable = true)\n",
      " |-- partition: integer (nullable = true)\n",
      " |-- offset: long (nullable = true)\n",
      " |-- timestamp: timestamp (nullable = true)\n",
      " |-- timestampType: integer (nullable = true)\n",
      "\n"
     ]
    }
   ],
   "source": [
    "kafka_df.printSchema()"
   ]
  },
  {
   "cell_type": "code",
   "execution_count": 4,
   "metadata": {},
   "outputs": [],
   "source": [
    "from pyspark.sql.functions import expr\n",
    "\n",
    "kafka_json_df = kafka_df.withColumn(\"value\", expr(\"cast(value as string)\"))"
   ]
  },
  {
   "cell_type": "code",
   "execution_count": 7,
   "metadata": {},
   "outputs": [
    {
     "name": "stdout",
     "output_type": "stream",
     "text": [
      "root\n",
      " |-- key: binary (nullable = true)\n",
      " |-- value: string (nullable = true)\n",
      " |-- topic: string (nullable = true)\n",
      " |-- partition: integer (nullable = true)\n",
      " |-- offset: long (nullable = true)\n",
      " |-- timestamp: timestamp (nullable = true)\n",
      " |-- timestampType: integer (nullable = true)\n",
      "\n"
     ]
    }
   ],
   "source": [
    "kafka_json_df.printSchema()"
   ]
  },
  {
   "cell_type": "code",
   "execution_count": 21,
   "metadata": {},
   "outputs": [],
   "source": [
    "from pyspark.sql.types import StringType, StructField, StructType, ArrayType, LongType\n",
    "from settings import JSON_SCHEMA\n",
    "json_schema = JSON_SCHEMA"
   ]
  },
  {
   "cell_type": "code",
   "execution_count": 26,
   "metadata": {},
   "outputs": [],
   "source": [
    "from pyspark.sql.functions import from_json,col\n",
    "\n",
    "streaming_df = kafka_json_df.withColumn(\"values_json\", from_json(col(\"value\"), json_schema)).selectExpr(\"key\", \"values_json.*\")"
   ]
  },
  {
   "cell_type": "code",
   "execution_count": 27,
   "metadata": {},
   "outputs": [
    {
     "name": "stdout",
     "output_type": "stream",
     "text": [
      "root\n",
      " |-- key: binary (nullable = true)\n",
      " |-- flight_date: string (nullable = true)\n",
      " |-- flight_status: string (nullable = true)\n",
      " |-- departure: struct (nullable = true)\n",
      " |    |-- airport: string (nullable = true)\n",
      " |    |-- timezone: string (nullable = true)\n",
      " |    |-- iata: string (nullable = true)\n",
      " |    |-- icao: string (nullable = true)\n",
      " |    |-- terminal: string (nullable = true)\n",
      " |    |-- gate: string (nullable = true)\n",
      " |    |-- delay: string (nullable = true)\n",
      " |    |-- scheduled: string (nullable = true)\n",
      " |    |-- estimated: string (nullable = true)\n",
      " |    |-- actual: string (nullable = true)\n",
      " |    |-- estimated_runway: string (nullable = true)\n",
      " |    |-- actual_runway: string (nullable = true)\n",
      " |-- arrival: struct (nullable = true)\n",
      " |    |-- airport: string (nullable = true)\n",
      " |    |-- timezone: string (nullable = true)\n",
      " |    |-- iata: string (nullable = true)\n",
      " |    |-- icao: string (nullable = true)\n",
      " |    |-- terminal: string (nullable = true)\n",
      " |    |-- gate: string (nullable = true)\n",
      " |    |-- baggage: string (nullable = true)\n",
      " |    |-- delay: string (nullable = true)\n",
      " |    |-- scheduled: string (nullable = true)\n",
      " |    |-- estimated: string (nullable = true)\n",
      " |    |-- actual: string (nullable = true)\n",
      " |    |-- estimated_runway: string (nullable = true)\n",
      " |    |-- actual_runway: string (nullable = true)\n",
      " |-- airline: struct (nullable = true)\n",
      " |    |-- name: string (nullable = true)\n",
      " |    |-- iata: string (nullable = true)\n",
      " |    |-- icao: string (nullable = true)\n",
      " |-- flight: struct (nullable = true)\n",
      " |    |-- number: string (nullable = true)\n",
      " |    |-- iata: string (nullable = true)\n",
      " |    |-- icao: string (nullable = true)\n",
      " |    |-- codeshared: struct (nullable = true)\n",
      " |    |    |-- airline_name: string (nullable = true)\n",
      " |    |    |-- airline_iata: string (nullable = true)\n",
      " |    |    |-- airline_icao: string (nullable = true)\n",
      " |    |    |-- flight_number: string (nullable = true)\n",
      " |    |    |-- flight_iata: string (nullable = true)\n",
      " |    |    |-- flight_icao: string (nullable = true)\n",
      "\n"
     ]
    }
   ],
   "source": [
    "streaming_df.printSchema()"
   ]
  },
  {
   "cell_type": "code",
   "execution_count": 28,
   "metadata": {},
   "outputs": [],
   "source": [
    "from pyspark.sql.functions import col\n",
    "from pyspark.sql.types import (\n",
    "    StructType, StructField, StringType, DateType, IntegerType, TimestampType\n",
    ")\n",
    "import pyspark.sql.functions as F\n",
    "\n",
    "flight_df = streaming_df.select(\n",
    "    # Flight-level fields\n",
    "    \"key\",\n",
    "    \"flight_date\",\n",
    "    \"flight_status\",\n",
    "    \n",
    "    # Flatten 'departure' struct\n",
    "    F.col(\"departure.airport\").alias(\"departure_airport\"),\n",
    "    F.col(\"departure.timezone\").alias(\"departure_timezone\"),\n",
    "    F.col(\"departure.iata\").alias(\"departure_iata\"),\n",
    "    F.col(\"departure.icao\").alias(\"departure_icao\"),\n",
    "    F.col(\"departure.terminal\").alias(\"departure_terminal\"),\n",
    "    F.col(\"departure.gate\").alias(\"departure_gate\"),\n",
    "    F.col(\"departure.delay\").cast(IntegerType()).alias(\"departure_delay\"),\n",
    "    F.col(\"departure.scheduled\").cast(TimestampType()).alias(\"departure_scheduled\"),\n",
    "    F.col(\"departure.estimated\").cast(TimestampType()).alias(\"departure_estimated\"),\n",
    "    F.col(\"departure.actual\").cast(TimestampType()).alias(\"departure_actual\"),\n",
    "    F.col(\"departure.estimated_runway\").cast(TimestampType()).alias(\"departure_estimated_runway\"),\n",
    "    F.col(\"departure.actual_runway\").cast(TimestampType()).alias(\"departure_actual_runway\"),\n",
    "    \n",
    "    # Flatten 'arrival' struct\n",
    "    F.col(\"arrival.airport\").alias(\"arrival_airport\"),\n",
    "    F.col(\"arrival.timezone\").alias(\"arrival_timezone\"),\n",
    "    F.col(\"arrival.iata\").alias(\"arrival_iata\"),\n",
    "    F.col(\"arrival.icao\").alias(\"arrival_icao\"),\n",
    "    F.col(\"arrival.terminal\").alias(\"arrival_terminal\"),\n",
    "    F.col(\"arrival.gate\").alias(\"arrival_gate\"),\n",
    "    F.col(\"arrival.baggage\").alias(\"arrival_baggage\"),\n",
    "    F.col(\"arrival.delay\").cast(IntegerType()).alias(\"arrival_delay\"),\n",
    "    F.col(\"arrival.scheduled\").cast(TimestampType()).alias(\"arrival_scheduled\"),\n",
    "    F.col(\"arrival.estimated\").cast(TimestampType()).alias(\"arrival_estimated\"),\n",
    "    F.col(\"arrival.actual\").cast(TimestampType()).alias(\"arrival_actual\"),\n",
    "    F.col(\"arrival.estimated_runway\").cast(TimestampType()).alias(\"arrival_estimated_runway\"),\n",
    "    F.col(\"arrival.actual_runway\").cast(TimestampType()).alias(\"arrival_actual_runway\"),\n",
    "    \n",
    "    # Flatten 'airline' struct\n",
    "    F.col(\"airline.iata\").alias(\"airline_id\"),\n",
    "    \n",
    "    # Flatten 'flight' struct\n",
    "    F.col(\"flight.number\").alias(\"flight_number\"),\n",
    "    \n",
    "    # Flatten 'codeshared' struct\n",
    "    F.col(\"flight.codeshared.flight_iata\").alias(\"codeshared_flight_id\")\n",
    ")"
   ]
  },
  {
   "cell_type": "code",
   "execution_count": 29,
   "metadata": {},
   "outputs": [
    {
     "name": "stdout",
     "output_type": "stream",
     "text": [
      "root\n",
      " |-- key: binary (nullable = true)\n",
      " |-- flight_date: string (nullable = true)\n",
      " |-- flight_status: string (nullable = true)\n",
      " |-- departure_airport: string (nullable = true)\n",
      " |-- departure_timezone: string (nullable = true)\n",
      " |-- departure_iata: string (nullable = true)\n",
      " |-- departure_icao: string (nullable = true)\n",
      " |-- departure_terminal: string (nullable = true)\n",
      " |-- departure_gate: string (nullable = true)\n",
      " |-- departure_delay: integer (nullable = true)\n",
      " |-- departure_scheduled: timestamp (nullable = true)\n",
      " |-- departure_estimated: timestamp (nullable = true)\n",
      " |-- departure_actual: timestamp (nullable = true)\n",
      " |-- departure_estimated_runway: timestamp (nullable = true)\n",
      " |-- departure_actual_runway: timestamp (nullable = true)\n",
      " |-- arrival_airport: string (nullable = true)\n",
      " |-- arrival_timezone: string (nullable = true)\n",
      " |-- arrival_iata: string (nullable = true)\n",
      " |-- arrival_icao: string (nullable = true)\n",
      " |-- arrival_terminal: string (nullable = true)\n",
      " |-- arrival_gate: string (nullable = true)\n",
      " |-- arrival_baggage: string (nullable = true)\n",
      " |-- arrival_delay: integer (nullable = true)\n",
      " |-- arrival_scheduled: timestamp (nullable = true)\n",
      " |-- arrival_estimated: timestamp (nullable = true)\n",
      " |-- arrival_actual: timestamp (nullable = true)\n",
      " |-- arrival_estimated_runway: timestamp (nullable = true)\n",
      " |-- arrival_actual_runway: timestamp (nullable = true)\n",
      " |-- airline_id: string (nullable = true)\n",
      " |-- flight_number: string (nullable = true)\n",
      " |-- codeshared_flight_id: string (nullable = true)\n",
      "\n"
     ]
    }
   ],
   "source": [
    "flight_df.printSchema()"
   ]
  },
  {
   "cell_type": "code",
   "execution_count": 33,
   "metadata": {},
   "outputs": [],
   "source": [
    "transformed_airline_df = streaming_df.select(\n",
    "    F.col(\"airline.iata\").alias(\"id\"),\n",
    "    F.col(\"airline.iata\").alias(\"iata\"),\n",
    "    F.col(\"airline.icao\").alias(\"icao\"),\n",
    "    F.col(\"airline.name\").alias(\"name\"),\n",
    ")"
   ]
  },
  {
   "cell_type": "code",
   "execution_count": 34,
   "metadata": {},
   "outputs": [
    {
     "name": "stdout",
     "output_type": "stream",
     "text": [
      "root\n",
      " |-- id: string (nullable = true)\n",
      " |-- iata: string (nullable = true)\n",
      " |-- icao: string (nullable = true)\n",
      " |-- name: string (nullable = true)\n",
      "\n"
     ]
    }
   ],
   "source": [
    "transformed_airline_df.printSchema()"
   ]
  },
  {
   "cell_type": "code",
   "execution_count": 35,
   "metadata": {},
   "outputs": [],
   "source": [
    "transformed_codeshared_df = streaming_df.select(\n",
    "    # Flatten 'codeshared' struct\n",
    "    F.col(\"flight.codeshared.flight_iata\").alias(\"id\"),\n",
    "    F.col(\"flight.codeshared.airline_iata\").alias(\"airline_id\"),\n",
    "    F.col(\"flight.codeshared.flight_number\").alias(\"flight_number\"),\n",
    "    F.col(\"flight.codeshared.flight_iata\").alias(\"flight_iata\"),\n",
    "    F.col(\"flight.codeshared.flight_icao\").alias(\"flight_icao\"),\n",
    ")"
   ]
  },
  {
   "cell_type": "code",
   "execution_count": 36,
   "metadata": {},
   "outputs": [
    {
     "name": "stderr",
     "output_type": "stream",
     "text": [
      "24/12/05 17:37:16 WARN ResolveWriteToStream: spark.sql.adaptive.enabled is not supported in streaming DataFrames/Datasets and will be disabled.\n",
      "24/12/05 17:37:16 WARN StreamingQueryManager: Stopping existing streaming query [id=5e5400c5-a3e1-4e37-8e6c-a12a9b68eb48, runId=b54cefd6-77c5-44cc-acaa-9936bbdd465b], as a new run is being started.\n",
      "24/12/05 17:37:16 WARN AdminClientConfig: The configuration 'key.deserializer' was supplied but isn't a known config.\n",
      "24/12/05 17:37:16 WARN AdminClientConfig: The configuration 'value.deserializer' was supplied but isn't a known config.\n",
      "24/12/05 17:37:16 WARN AdminClientConfig: The configuration 'enable.auto.commit' was supplied but isn't a known config.\n",
      "24/12/05 17:37:16 WARN AdminClientConfig: The configuration 'max.poll.records' was supplied but isn't a known config.\n",
      "24/12/05 17:37:16 WARN AdminClientConfig: The configuration 'auto.offset.reset' was supplied but isn't a known config.\n",
      "24/12/05 17:47:29 WARN SparkStringUtils: Truncated the string representation of a plan since it was too large. This behavior can be adjusted by setting 'spark.sql.debug.maxToStringFields'.\n",
      "                                                                                \r"
     ]
    },
    {
     "name": "stdout",
     "output_type": "stream",
     "text": [
      "-------------------------------------------\n",
      "Batch: 4\n",
      "-------------------------------------------\n",
      "+----+-----------+-------------+-----------------+------------------+--------------+--------------+------------------+--------------+---------------+-------------------+-------------------+----------------+--------------------------+-----------------------+---------------+----------------+------------+------------+----------------+------------+---------------+-------------+-------------------+-------------------+--------------+------------------------+---------------------+----------+-------------+--------------------+\n",
      "| key|flight_date|flight_status|departure_airport|departure_timezone|departure_iata|departure_icao|departure_terminal|departure_gate|departure_delay|departure_scheduled|departure_estimated|departure_actual|departure_estimated_runway|departure_actual_runway|arrival_airport|arrival_timezone|arrival_iata|arrival_icao|arrival_terminal|arrival_gate|arrival_baggage|arrival_delay|  arrival_scheduled|  arrival_estimated|arrival_actual|arrival_estimated_runway|arrival_actual_runway|airline_id|flight_number|codeshared_flight_id|\n",
      "+----+-----------+-------------+-----------------+------------------+--------------+--------------+------------------+--------------+---------------+-------------------+-------------------+----------------+--------------------------+-----------------------+---------------+----------------+------------+------------+----------------+------------+---------------+-------------+-------------------+-------------------+--------------+------------------------+---------------------+----------+-------------+--------------------+\n",
      "|NULL| 2024-11-22|    scheduled|            Dubbo|  Australia/Sydney|           DBO|          YSDU|              NULL|          NULL|           NULL|2024-11-22 15:45:00|2024-11-22 15:45:00|            NULL|                      NULL|                   NULL|         Parkes|Australia/Sydney|         PKE|        YPKS|               2|        NULL|           NULL|         NULL|2024-11-20 16:26:00|2024-11-20 16:26:00|          NULL|                    NULL|                 NULL|      NULL|         NULL|                NULL|\n",
      "+----+-----------+-------------+-----------------+------------------+--------------+--------------+------------------+--------------+---------------+-------------------+-------------------+----------------+--------------------------+-----------------------+---------------+----------------+------------+------------+----------------+------------+---------------+-------------+-------------------+-------------------+--------------+------------------------+---------------------+----------+-------------+--------------------+\n",
      "\n"
     ]
    },
    {
     "name": "stderr",
     "output_type": "stream",
     "text": [
      "                                                                                \r"
     ]
    },
    {
     "name": "stdout",
     "output_type": "stream",
     "text": [
      "-------------------------------------------\n",
      "Batch: 5\n",
      "-------------------------------------------\n",
      "+----+-----------+-------------+-----------------+------------------+--------------+--------------+------------------+--------------+---------------+-------------------+-------------------+----------------+--------------------------+-----------------------+---------------+----------------+------------+------------+----------------+------------+---------------+-------------+-------------------+-------------------+--------------+------------------------+---------------------+----------+-------------+--------------------+\n",
      "| key|flight_date|flight_status|departure_airport|departure_timezone|departure_iata|departure_icao|departure_terminal|departure_gate|departure_delay|departure_scheduled|departure_estimated|departure_actual|departure_estimated_runway|departure_actual_runway|arrival_airport|arrival_timezone|arrival_iata|arrival_icao|arrival_terminal|arrival_gate|arrival_baggage|arrival_delay|  arrival_scheduled|  arrival_estimated|arrival_actual|arrival_estimated_runway|arrival_actual_runway|airline_id|flight_number|codeshared_flight_id|\n",
      "+----+-----------+-------------+-----------------+------------------+--------------+--------------+------------------+--------------+---------------+-------------------+-------------------+----------------+--------------------------+-----------------------+---------------+----------------+------------+------------+----------------+------------+---------------+-------------+-------------------+-------------------+--------------+------------------------+---------------------+----------+-------------+--------------------+\n",
      "|NULL| 2024-11-22|    scheduled|            Dubbo|  Australia/Sydney|           DBO|          YSDU|              NULL|          NULL|           NULL|2024-11-22 15:45:00|2024-11-22 15:45:00|            NULL|                      NULL|                   NULL|         Parkes|Australia/Sydney|         PKE|        YPKS|               2|        NULL|           NULL|         NULL|2024-11-20 16:26:00|2024-11-20 16:26:00|          NULL|                    NULL|                 NULL|      NULL|         NULL|                NULL|\n",
      "+----+-----------+-------------+-----------------+------------------+--------------+--------------+------------------+--------------+---------------+-------------------+-------------------+----------------+--------------------------+-----------------------+---------------+----------------+------------+------------+----------------+------------+---------------+-------------+-------------------+-------------------+--------------+------------------------+---------------------+----------+-------------+--------------------+\n",
      "\n"
     ]
    },
    {
     "name": "stderr",
     "output_type": "stream",
     "text": [
      "ERROR:root:KeyboardInterrupt while sending command.\n",
      "Traceback (most recent call last):\n",
      "  File \"/Users/phamquangtrung/miniconda3/envs/big-data/lib/python3.13/site-packages/py4j/java_gateway.py\", line 1038, in send_command\n",
      "    response = connection.send_command(command)\n",
      "  File \"/Users/phamquangtrung/miniconda3/envs/big-data/lib/python3.13/site-packages/py4j/clientserver.py\", line 511, in send_command\n",
      "    answer = smart_decode(self.stream.readline()[:-1])\n",
      "                          ~~~~~~~~~~~~~~~~~~~~^^\n",
      "  File \"/Users/phamquangtrung/miniconda3/envs/big-data/lib/python3.13/socket.py\", line 719, in readinto\n",
      "    return self._sock.recv_into(b)\n",
      "           ~~~~~~~~~~~~~~~~~~~~^^^\n",
      "KeyboardInterrupt\n"
     ]
    },
    {
     "ename": "KeyboardInterrupt",
     "evalue": "",
     "output_type": "error",
     "traceback": [
      "\u001b[0;31m---------------------------------------------------------------------------\u001b[0m",
      "\u001b[0;31mKeyboardInterrupt\u001b[0m                         Traceback (most recent call last)",
      "Cell \u001b[0;32mIn[36], line 7\u001b[0m\n\u001b[1;32m      1\u001b[0m (\u001b[43mflight_df\u001b[49m\n\u001b[1;32m      2\u001b[0m \u001b[43m \u001b[49m\u001b[38;5;241;43m.\u001b[39;49m\u001b[43mwriteStream\u001b[49m\n\u001b[1;32m      3\u001b[0m \u001b[43m \u001b[49m\u001b[38;5;241;43m.\u001b[39;49m\u001b[43mformat\u001b[49m\u001b[43m(\u001b[49m\u001b[38;5;124;43m\"\u001b[39;49m\u001b[38;5;124;43mconsole\u001b[39;49m\u001b[38;5;124;43m\"\u001b[39;49m\u001b[43m)\u001b[49m\n\u001b[1;32m      4\u001b[0m \u001b[43m \u001b[49m\u001b[38;5;241;43m.\u001b[39;49m\u001b[43moutputMode\u001b[49m\u001b[43m(\u001b[49m\u001b[38;5;124;43m\"\u001b[39;49m\u001b[38;5;124;43mappend\u001b[39;49m\u001b[38;5;124;43m\"\u001b[39;49m\u001b[43m)\u001b[49m\n\u001b[1;32m      5\u001b[0m \u001b[43m \u001b[49m\u001b[38;5;241;43m.\u001b[39;49m\u001b[43moption\u001b[49m\u001b[43m(\u001b[49m\u001b[38;5;124;43m\"\u001b[39;49m\u001b[38;5;124;43mcheckpointLocation\u001b[39;49m\u001b[38;5;124;43m\"\u001b[39;49m\u001b[43m,\u001b[49m\u001b[43m \u001b[49m\u001b[38;5;124;43m\"\u001b[39;49m\u001b[38;5;124;43mcheckpoint_dir_kafka\u001b[39;49m\u001b[38;5;124;43m\"\u001b[39;49m\u001b[43m)\u001b[49m\n\u001b[1;32m      6\u001b[0m \u001b[43m \u001b[49m\u001b[38;5;241;43m.\u001b[39;49m\u001b[43mstart\u001b[49m\u001b[43m(\u001b[49m\u001b[43m)\u001b[49m\n\u001b[0;32m----> 7\u001b[0m \u001b[43m \u001b[49m\u001b[38;5;241;43m.\u001b[39;49m\u001b[43mawaitTermination\u001b[49m\u001b[43m(\u001b[49m\u001b[43m)\u001b[49m)\n",
      "File \u001b[0;32m~/miniconda3/envs/big-data/lib/python3.13/site-packages/pyspark/sql/streaming/query.py:221\u001b[0m, in \u001b[0;36mStreamingQuery.awaitTermination\u001b[0;34m(self, timeout)\u001b[0m\n\u001b[1;32m    219\u001b[0m     \u001b[38;5;28;01mreturn\u001b[39;00m \u001b[38;5;28mself\u001b[39m\u001b[38;5;241m.\u001b[39m_jsq\u001b[38;5;241m.\u001b[39mawaitTermination(\u001b[38;5;28mint\u001b[39m(timeout \u001b[38;5;241m*\u001b[39m \u001b[38;5;241m1000\u001b[39m))\n\u001b[1;32m    220\u001b[0m \u001b[38;5;28;01melse\u001b[39;00m:\n\u001b[0;32m--> 221\u001b[0m     \u001b[38;5;28;01mreturn\u001b[39;00m \u001b[38;5;28;43mself\u001b[39;49m\u001b[38;5;241;43m.\u001b[39;49m\u001b[43m_jsq\u001b[49m\u001b[38;5;241;43m.\u001b[39;49m\u001b[43mawaitTermination\u001b[49m\u001b[43m(\u001b[49m\u001b[43m)\u001b[49m\n",
      "File \u001b[0;32m~/miniconda3/envs/big-data/lib/python3.13/site-packages/py4j/java_gateway.py:1321\u001b[0m, in \u001b[0;36mJavaMember.__call__\u001b[0;34m(self, *args)\u001b[0m\n\u001b[1;32m   1314\u001b[0m args_command, temp_args \u001b[38;5;241m=\u001b[39m \u001b[38;5;28mself\u001b[39m\u001b[38;5;241m.\u001b[39m_build_args(\u001b[38;5;241m*\u001b[39margs)\n\u001b[1;32m   1316\u001b[0m command \u001b[38;5;241m=\u001b[39m proto\u001b[38;5;241m.\u001b[39mCALL_COMMAND_NAME \u001b[38;5;241m+\u001b[39m\\\n\u001b[1;32m   1317\u001b[0m     \u001b[38;5;28mself\u001b[39m\u001b[38;5;241m.\u001b[39mcommand_header \u001b[38;5;241m+\u001b[39m\\\n\u001b[1;32m   1318\u001b[0m     args_command \u001b[38;5;241m+\u001b[39m\\\n\u001b[1;32m   1319\u001b[0m     proto\u001b[38;5;241m.\u001b[39mEND_COMMAND_PART\n\u001b[0;32m-> 1321\u001b[0m answer \u001b[38;5;241m=\u001b[39m \u001b[38;5;28;43mself\u001b[39;49m\u001b[38;5;241;43m.\u001b[39;49m\u001b[43mgateway_client\u001b[49m\u001b[38;5;241;43m.\u001b[39;49m\u001b[43msend_command\u001b[49m\u001b[43m(\u001b[49m\u001b[43mcommand\u001b[49m\u001b[43m)\u001b[49m\n\u001b[1;32m   1322\u001b[0m return_value \u001b[38;5;241m=\u001b[39m get_return_value(\n\u001b[1;32m   1323\u001b[0m     answer, \u001b[38;5;28mself\u001b[39m\u001b[38;5;241m.\u001b[39mgateway_client, \u001b[38;5;28mself\u001b[39m\u001b[38;5;241m.\u001b[39mtarget_id, \u001b[38;5;28mself\u001b[39m\u001b[38;5;241m.\u001b[39mname)\n\u001b[1;32m   1325\u001b[0m \u001b[38;5;28;01mfor\u001b[39;00m temp_arg \u001b[38;5;129;01min\u001b[39;00m temp_args:\n",
      "File \u001b[0;32m~/miniconda3/envs/big-data/lib/python3.13/site-packages/py4j/java_gateway.py:1038\u001b[0m, in \u001b[0;36mGatewayClient.send_command\u001b[0;34m(self, command, retry, binary)\u001b[0m\n\u001b[1;32m   1036\u001b[0m connection \u001b[38;5;241m=\u001b[39m \u001b[38;5;28mself\u001b[39m\u001b[38;5;241m.\u001b[39m_get_connection()\n\u001b[1;32m   1037\u001b[0m \u001b[38;5;28;01mtry\u001b[39;00m:\n\u001b[0;32m-> 1038\u001b[0m     response \u001b[38;5;241m=\u001b[39m \u001b[43mconnection\u001b[49m\u001b[38;5;241;43m.\u001b[39;49m\u001b[43msend_command\u001b[49m\u001b[43m(\u001b[49m\u001b[43mcommand\u001b[49m\u001b[43m)\u001b[49m\n\u001b[1;32m   1039\u001b[0m     \u001b[38;5;28;01mif\u001b[39;00m binary:\n\u001b[1;32m   1040\u001b[0m         \u001b[38;5;28;01mreturn\u001b[39;00m response, \u001b[38;5;28mself\u001b[39m\u001b[38;5;241m.\u001b[39m_create_connection_guard(connection)\n",
      "File \u001b[0;32m~/miniconda3/envs/big-data/lib/python3.13/site-packages/py4j/clientserver.py:511\u001b[0m, in \u001b[0;36mClientServerConnection.send_command\u001b[0;34m(self, command)\u001b[0m\n\u001b[1;32m    509\u001b[0m \u001b[38;5;28;01mtry\u001b[39;00m:\n\u001b[1;32m    510\u001b[0m     \u001b[38;5;28;01mwhile\u001b[39;00m \u001b[38;5;28;01mTrue\u001b[39;00m:\n\u001b[0;32m--> 511\u001b[0m         answer \u001b[38;5;241m=\u001b[39m smart_decode(\u001b[38;5;28;43mself\u001b[39;49m\u001b[38;5;241;43m.\u001b[39;49m\u001b[43mstream\u001b[49m\u001b[38;5;241;43m.\u001b[39;49m\u001b[43mreadline\u001b[49m\u001b[43m(\u001b[49m\u001b[43m)\u001b[49m[:\u001b[38;5;241m-\u001b[39m\u001b[38;5;241m1\u001b[39m])\n\u001b[1;32m    512\u001b[0m         logger\u001b[38;5;241m.\u001b[39mdebug(\u001b[38;5;124m\"\u001b[39m\u001b[38;5;124mAnswer received: \u001b[39m\u001b[38;5;132;01m{0}\u001b[39;00m\u001b[38;5;124m\"\u001b[39m\u001b[38;5;241m.\u001b[39mformat(answer))\n\u001b[1;32m    513\u001b[0m         \u001b[38;5;66;03m# Happens when a the other end is dead. There might be an empty\u001b[39;00m\n\u001b[1;32m    514\u001b[0m         \u001b[38;5;66;03m# answer before the socket raises an error.\u001b[39;00m\n",
      "File \u001b[0;32m~/miniconda3/envs/big-data/lib/python3.13/socket.py:719\u001b[0m, in \u001b[0;36mSocketIO.readinto\u001b[0;34m(self, b)\u001b[0m\n\u001b[1;32m    717\u001b[0m     \u001b[38;5;28;01mraise\u001b[39;00m \u001b[38;5;167;01mOSError\u001b[39;00m(\u001b[38;5;124m\"\u001b[39m\u001b[38;5;124mcannot read from timed out object\u001b[39m\u001b[38;5;124m\"\u001b[39m)\n\u001b[1;32m    718\u001b[0m \u001b[38;5;28;01mtry\u001b[39;00m:\n\u001b[0;32m--> 719\u001b[0m     \u001b[38;5;28;01mreturn\u001b[39;00m \u001b[38;5;28;43mself\u001b[39;49m\u001b[38;5;241;43m.\u001b[39;49m\u001b[43m_sock\u001b[49m\u001b[38;5;241;43m.\u001b[39;49m\u001b[43mrecv_into\u001b[49m\u001b[43m(\u001b[49m\u001b[43mb\u001b[49m\u001b[43m)\u001b[49m\n\u001b[1;32m    720\u001b[0m \u001b[38;5;28;01mexcept\u001b[39;00m timeout:\n\u001b[1;32m    721\u001b[0m     \u001b[38;5;28mself\u001b[39m\u001b[38;5;241m.\u001b[39m_timeout_occurred \u001b[38;5;241m=\u001b[39m \u001b[38;5;28;01mTrue\u001b[39;00m\n",
      "\u001b[0;31mKeyboardInterrupt\u001b[0m: "
     ]
    }
   ],
   "source": [
    "(flight_df\n",
    " .writeStream\n",
    " .format(\"console\")\n",
    " .outputMode(\"append\")\n",
    " .option(\"checkpointLocation\", \"checkpoint_dir_kafka\")\n",
    " .start()\n",
    " .awaitTermination())"
   ]
  },
  {
   "cell_type": "code",
   "execution_count": null,
   "metadata": {},
   "outputs": [],
   "source": []
  }
 ],
 "metadata": {
  "kernelspec": {
   "display_name": "big-data",
   "language": "python",
   "name": "python3"
  },
  "language_info": {
   "codemirror_mode": {
    "name": "ipython",
    "version": 3
   },
   "file_extension": ".py",
   "mimetype": "text/x-python",
   "name": "python",
   "nbconvert_exporter": "python",
   "pygments_lexer": "ipython3",
   "version": "3.13.0"
  }
 },
 "nbformat": 4,
 "nbformat_minor": 2
}
