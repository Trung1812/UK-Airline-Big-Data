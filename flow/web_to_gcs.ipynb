{
 "cells": [
  {
   "cell_type": "code",
   "execution_count": null,
   "metadata": {},
   "outputs": [
    {
     "name": "stdout",
     "output_type": "stream",
     "text": [
      "Collecting google-cloud-storage\n",
      "  Downloading google_cloud_storage-2.19.0-py2.py3-none-any.whl (131 kB)\n",
      "Requirement already satisfied: requests in c:\\users\\admin\\appdata\\roaming\\python\\python39\\site-packages (2.31.0)\n",
      "Collecting google-resumable-media>=2.7.2\n",
      "  Downloading google_resumable_media-2.7.2-py2.py3-none-any.whl (81 kB)\n",
      "Collecting google-auth<3.0dev,>=2.26.1\n",
      "  Downloading google_auth-2.36.0-py2.py3-none-any.whl (209 kB)\n",
      "Collecting google-api-core<3.0.0dev,>=2.15.0\n",
      "  Downloading google_api_core-2.23.0-py3-none-any.whl (156 kB)\n",
      "Collecting google-cloud-core<3.0dev,>=2.3.0\n",
      "  Downloading google_cloud_core-2.4.1-py2.py3-none-any.whl (29 kB)\n",
      "Collecting google-crc32c<2.0dev,>=1.0\n",
      "  Downloading google_crc32c-1.6.0-cp39-cp39-win_amd64.whl (33 kB)\n",
      "Requirement already satisfied: urllib3<3,>=1.21.1 in f:\\app\\anaconda\\lib\\site-packages (from requests) (1.26.19)\n",
      "Requirement already satisfied: charset-normalizer<4,>=2 in f:\\app\\anaconda\\lib\\site-packages (from requests) (2.0.4)\n",
      "Requirement already satisfied: certifi>=2017.4.17 in f:\\app\\anaconda\\lib\\site-packages (from requests) (2024.6.2)\n",
      "Requirement already satisfied: idna<4,>=2.5 in f:\\app\\anaconda\\lib\\site-packages (from requests) (3.2)\n",
      "Collecting googleapis-common-protos<2.0.dev0,>=1.56.2\n",
      "  Downloading googleapis_common_protos-1.66.0-py2.py3-none-any.whl (221 kB)\n",
      "Requirement already satisfied: protobuf!=3.20.0,!=3.20.1,!=4.21.0,!=4.21.1,!=4.21.2,!=4.21.3,!=4.21.4,!=4.21.5,<6.0.0.dev0,>=3.19.5 in f:\\app\\anaconda\\lib\\site-packages (from google-api-core<3.0.0dev,>=2.15.0->google-cloud-storage) (4.24.4)\n",
      "Collecting proto-plus<2.0.0dev,>=1.22.3\n",
      "  Downloading proto_plus-1.25.0-py3-none-any.whl (50 kB)\n",
      "Requirement already satisfied: cachetools<6.0,>=2.0.0 in c:\\users\\admin\\appdata\\roaming\\python\\python39\\site-packages (from google-auth<3.0dev,>=2.26.1->google-cloud-storage) (5.3.1)\n",
      "Collecting pyasn1-modules>=0.2.1\n",
      "  Downloading pyasn1_modules-0.4.1-py3-none-any.whl (181 kB)\n",
      "Collecting rsa<5,>=3.1.4\n",
      "  Downloading rsa-4.9-py3-none-any.whl (34 kB)\n",
      "Collecting pyasn1<0.7.0,>=0.4.6\n",
      "  Downloading pyasn1-0.6.1-py3-none-any.whl (83 kB)\n",
      "Installing collected packages: pyasn1, rsa, pyasn1-modules, proto-plus, googleapis-common-protos, google-auth, google-crc32c, google-api-core, google-resumable-media, google-cloud-core, google-cloud-storage\n",
      "Successfully installed google-api-core-2.23.0 google-auth-2.36.0 google-cloud-core-2.4.1 google-cloud-storage-2.19.0 google-crc32c-1.6.0 google-resumable-media-2.7.2 googleapis-common-protos-1.66.0 proto-plus-1.25.0 pyasn1-0.6.1 pyasn1-modules-0.4.1 rsa-4.9\n"
     ]
    }
   ],
   "source": [
    "# !pip install google-cloud-storage requests"
   ]
  },
  {
   "cell_type": "code",
   "execution_count": 20,
   "metadata": {},
   "outputs": [],
   "source": [
    "!set GOOGLE_APPLICATION_CREDENTIALS=\"F:\\\\setup files\\\\downloads\\\\totemic-program-442307-i9-cdc0176778ce.json\""
   ]
  },
  {
   "cell_type": "code",
   "execution_count": 19,
   "metadata": {},
   "outputs": [
    {
     "name": "stdout",
     "output_type": "stream",
     "text": [
      " Volume in drive F is New Volume\n",
      " Volume Serial Number is EC26-6E9F\n",
      "\n",
      " Directory of f:\\CodingEnvironment\\BigData\\flow\n",
      "\n",
      "12/08/2024  04:55 PM    <DIR>          .\n",
      "12/08/2024  04:55 PM    <DIR>          ..\n",
      "12/08/2024  04:46 PM     7,163,404,119 airline.tar.gz\n",
      "12/08/2024  04:57 PM             1,668 to_gcs.py\n",
      "12/08/2024  03:57 PM                 0 web_to_gcs.ipynb\n",
      "               3 File(s)  7,163,405,787 bytes\n",
      "               2 Dir(s)  44,627,509,248 bytes free\n"
     ]
    }
   ],
   "source": [
    "ls"
   ]
  },
  {
   "cell_type": "code",
   "execution_count": null,
   "metadata": {},
   "outputs": [
    {
     "name": "stdout",
     "output_type": "stream",
     "text": [
      "Starting download from https://dax-cdn.cdn.appdomain.cloud/dax-airline/1.0.1/airline.tar.gz...\n",
      "Downloaded 0.01%\n",
      "Downloaded 0.03%\n",
      "Downloaded 0.04%\n",
      "Downloaded 0.06%\n",
      "Downloaded 0.07%\n",
      "Downloaded 0.09%\n",
      "Downloaded 0.10%\n",
      "Downloaded 0.12%\n",
      "Downloaded 0.13%\n",
      "Downloaded 0.15%\n",
      "Downloaded 0.16%\n",
      "Downloaded 0.18%\n",
      "Downloaded 0.19%\n"
     ]
    },
    {
     "ename": "KeyboardInterrupt",
     "evalue": "",
     "output_type": "error",
     "traceback": [
      "\u001b[1;31m---------------------------------------------------------------------------\u001b[0m",
      "\u001b[1;31mKeyboardInterrupt\u001b[0m                         Traceback (most recent call last)",
      "\u001b[1;32m~\\AppData\\Local\\Temp/ipykernel_5652/1833252621.py\u001b[0m in \u001b[0;36m<module>\u001b[1;34m\u001b[0m\n\u001b[0;32m     53\u001b[0m \u001b[1;33m\u001b[0m\u001b[0m\n\u001b[0;32m     54\u001b[0m \u001b[1;31m# Download the file\u001b[0m\u001b[1;33m\u001b[0m\u001b[1;33m\u001b[0m\u001b[0m\n\u001b[1;32m---> 55\u001b[1;33m \u001b[0mdownload_file\u001b[0m\u001b[1;33m(\u001b[0m\u001b[0murl\u001b[0m\u001b[1;33m,\u001b[0m \u001b[0mdownload_path\u001b[0m\u001b[1;33m)\u001b[0m\u001b[1;33m\u001b[0m\u001b[1;33m\u001b[0m\u001b[0m\n\u001b[0m",
      "\u001b[1;32m~\\AppData\\Local\\Temp/ipykernel_5652/1833252621.py\u001b[0m in \u001b[0;36mdownload_file\u001b[1;34m(url, destination)\u001b[0m\n\u001b[0;32m     18\u001b[0m         \u001b[1;32mwith\u001b[0m \u001b[0mopen\u001b[0m\u001b[1;33m(\u001b[0m\u001b[0mdestination\u001b[0m\u001b[1;33m,\u001b[0m \u001b[1;34m'wb'\u001b[0m\u001b[1;33m)\u001b[0m \u001b[1;32mas\u001b[0m \u001b[0mfile\u001b[0m\u001b[1;33m:\u001b[0m\u001b[1;33m\u001b[0m\u001b[1;33m\u001b[0m\u001b[0m\n\u001b[0;32m     19\u001b[0m             \u001b[0mdownloaded\u001b[0m \u001b[1;33m=\u001b[0m \u001b[1;36m0\u001b[0m\u001b[1;33m\u001b[0m\u001b[1;33m\u001b[0m\u001b[0m\n\u001b[1;32m---> 20\u001b[1;33m             \u001b[1;32mfor\u001b[0m \u001b[0mchunk\u001b[0m \u001b[1;32min\u001b[0m \u001b[0mresponse\u001b[0m\u001b[1;33m.\u001b[0m\u001b[0miter_content\u001b[0m\u001b[1;33m(\u001b[0m\u001b[0mchunk_size\u001b[0m\u001b[1;33m=\u001b[0m\u001b[0mchunk_size\u001b[0m\u001b[1;33m)\u001b[0m\u001b[1;33m:\u001b[0m\u001b[1;33m\u001b[0m\u001b[1;33m\u001b[0m\u001b[0m\n\u001b[0m\u001b[0;32m     21\u001b[0m                 \u001b[1;32mif\u001b[0m \u001b[0mchunk\u001b[0m\u001b[1;33m:\u001b[0m  \u001b[1;31m# Filter out keep-alive chunks\u001b[0m\u001b[1;33m\u001b[0m\u001b[1;33m\u001b[0m\u001b[0m\n\u001b[0;32m     22\u001b[0m                     \u001b[0mfile\u001b[0m\u001b[1;33m.\u001b[0m\u001b[0mwrite\u001b[0m\u001b[1;33m(\u001b[0m\u001b[0mchunk\u001b[0m\u001b[1;33m)\u001b[0m\u001b[1;33m\u001b[0m\u001b[1;33m\u001b[0m\u001b[0m\n",
      "\u001b[1;32m~\\AppData\\Roaming\\Python\\Python39\\site-packages\\requests\\models.py\u001b[0m in \u001b[0;36mgenerate\u001b[1;34m()\u001b[0m\n\u001b[0;32m    814\u001b[0m             \u001b[1;32mif\u001b[0m \u001b[0mhasattr\u001b[0m\u001b[1;33m(\u001b[0m\u001b[0mself\u001b[0m\u001b[1;33m.\u001b[0m\u001b[0mraw\u001b[0m\u001b[1;33m,\u001b[0m \u001b[1;34m\"stream\"\u001b[0m\u001b[1;33m)\u001b[0m\u001b[1;33m:\u001b[0m\u001b[1;33m\u001b[0m\u001b[1;33m\u001b[0m\u001b[0m\n\u001b[0;32m    815\u001b[0m                 \u001b[1;32mtry\u001b[0m\u001b[1;33m:\u001b[0m\u001b[1;33m\u001b[0m\u001b[1;33m\u001b[0m\u001b[0m\n\u001b[1;32m--> 816\u001b[1;33m                     \u001b[1;32myield\u001b[0m \u001b[1;32mfrom\u001b[0m \u001b[0mself\u001b[0m\u001b[1;33m.\u001b[0m\u001b[0mraw\u001b[0m\u001b[1;33m.\u001b[0m\u001b[0mstream\u001b[0m\u001b[1;33m(\u001b[0m\u001b[0mchunk_size\u001b[0m\u001b[1;33m,\u001b[0m \u001b[0mdecode_content\u001b[0m\u001b[1;33m=\u001b[0m\u001b[1;32mTrue\u001b[0m\u001b[1;33m)\u001b[0m\u001b[1;33m\u001b[0m\u001b[1;33m\u001b[0m\u001b[0m\n\u001b[0m\u001b[0;32m    817\u001b[0m                 \u001b[1;32mexcept\u001b[0m \u001b[0mProtocolError\u001b[0m \u001b[1;32mas\u001b[0m \u001b[0me\u001b[0m\u001b[1;33m:\u001b[0m\u001b[1;33m\u001b[0m\u001b[1;33m\u001b[0m\u001b[0m\n\u001b[0;32m    818\u001b[0m                     \u001b[1;32mraise\u001b[0m \u001b[0mChunkedEncodingError\u001b[0m\u001b[1;33m(\u001b[0m\u001b[0me\u001b[0m\u001b[1;33m)\u001b[0m\u001b[1;33m\u001b[0m\u001b[1;33m\u001b[0m\u001b[0m\n",
      "\u001b[1;32mf:\\App\\anaconda\\lib\\site-packages\\urllib3\\response.py\u001b[0m in \u001b[0;36mstream\u001b[1;34m(self, amt, decode_content)\u001b[0m\n\u001b[0;32m    626\u001b[0m         \u001b[1;32melse\u001b[0m\u001b[1;33m:\u001b[0m\u001b[1;33m\u001b[0m\u001b[1;33m\u001b[0m\u001b[0m\n\u001b[0;32m    627\u001b[0m             \u001b[1;32mwhile\u001b[0m \u001b[1;32mnot\u001b[0m \u001b[0mis_fp_closed\u001b[0m\u001b[1;33m(\u001b[0m\u001b[0mself\u001b[0m\u001b[1;33m.\u001b[0m\u001b[0m_fp\u001b[0m\u001b[1;33m)\u001b[0m\u001b[1;33m:\u001b[0m\u001b[1;33m\u001b[0m\u001b[1;33m\u001b[0m\u001b[0m\n\u001b[1;32m--> 628\u001b[1;33m                 \u001b[0mdata\u001b[0m \u001b[1;33m=\u001b[0m \u001b[0mself\u001b[0m\u001b[1;33m.\u001b[0m\u001b[0mread\u001b[0m\u001b[1;33m(\u001b[0m\u001b[0mamt\u001b[0m\u001b[1;33m=\u001b[0m\u001b[0mamt\u001b[0m\u001b[1;33m,\u001b[0m \u001b[0mdecode_content\u001b[0m\u001b[1;33m=\u001b[0m\u001b[0mdecode_content\u001b[0m\u001b[1;33m)\u001b[0m\u001b[1;33m\u001b[0m\u001b[1;33m\u001b[0m\u001b[0m\n\u001b[0m\u001b[0;32m    629\u001b[0m \u001b[1;33m\u001b[0m\u001b[0m\n\u001b[0;32m    630\u001b[0m                 \u001b[1;32mif\u001b[0m \u001b[0mdata\u001b[0m\u001b[1;33m:\u001b[0m\u001b[1;33m\u001b[0m\u001b[1;33m\u001b[0m\u001b[0m\n",
      "\u001b[1;32mf:\\App\\anaconda\\lib\\site-packages\\urllib3\\response.py\u001b[0m in \u001b[0;36mread\u001b[1;34m(self, amt, decode_content, cache_content)\u001b[0m\n\u001b[0;32m    565\u001b[0m \u001b[1;33m\u001b[0m\u001b[0m\n\u001b[0;32m    566\u001b[0m         \u001b[1;32mwith\u001b[0m \u001b[0mself\u001b[0m\u001b[1;33m.\u001b[0m\u001b[0m_error_catcher\u001b[0m\u001b[1;33m(\u001b[0m\u001b[1;33m)\u001b[0m\u001b[1;33m:\u001b[0m\u001b[1;33m\u001b[0m\u001b[1;33m\u001b[0m\u001b[0m\n\u001b[1;32m--> 567\u001b[1;33m             \u001b[0mdata\u001b[0m \u001b[1;33m=\u001b[0m \u001b[0mself\u001b[0m\u001b[1;33m.\u001b[0m\u001b[0m_fp_read\u001b[0m\u001b[1;33m(\u001b[0m\u001b[0mamt\u001b[0m\u001b[1;33m)\u001b[0m \u001b[1;32mif\u001b[0m \u001b[1;32mnot\u001b[0m \u001b[0mfp_closed\u001b[0m \u001b[1;32melse\u001b[0m \u001b[1;34mb\"\"\u001b[0m\u001b[1;33m\u001b[0m\u001b[1;33m\u001b[0m\u001b[0m\n\u001b[0m\u001b[0;32m    568\u001b[0m             \u001b[1;32mif\u001b[0m \u001b[0mamt\u001b[0m \u001b[1;32mis\u001b[0m \u001b[1;32mNone\u001b[0m\u001b[1;33m:\u001b[0m\u001b[1;33m\u001b[0m\u001b[1;33m\u001b[0m\u001b[0m\n\u001b[0;32m    569\u001b[0m                 \u001b[0mflush_decoder\u001b[0m \u001b[1;33m=\u001b[0m \u001b[1;32mTrue\u001b[0m\u001b[1;33m\u001b[0m\u001b[1;33m\u001b[0m\u001b[0m\n",
      "\u001b[1;32mf:\\App\\anaconda\\lib\\site-packages\\urllib3\\response.py\u001b[0m in \u001b[0;36m_fp_read\u001b[1;34m(self, amt)\u001b[0m\n\u001b[0;32m    523\u001b[0m                 \u001b[1;32melse\u001b[0m\u001b[1;33m:\u001b[0m\u001b[1;33m\u001b[0m\u001b[1;33m\u001b[0m\u001b[0m\n\u001b[0;32m    524\u001b[0m                     \u001b[0mchunk_amt\u001b[0m \u001b[1;33m=\u001b[0m \u001b[0mmax_chunk_amt\u001b[0m\u001b[1;33m\u001b[0m\u001b[1;33m\u001b[0m\u001b[0m\n\u001b[1;32m--> 525\u001b[1;33m                 \u001b[0mdata\u001b[0m \u001b[1;33m=\u001b[0m \u001b[0mself\u001b[0m\u001b[1;33m.\u001b[0m\u001b[0m_fp\u001b[0m\u001b[1;33m.\u001b[0m\u001b[0mread\u001b[0m\u001b[1;33m(\u001b[0m\u001b[0mchunk_amt\u001b[0m\u001b[1;33m)\u001b[0m\u001b[1;33m\u001b[0m\u001b[1;33m\u001b[0m\u001b[0m\n\u001b[0m\u001b[0;32m    526\u001b[0m                 \u001b[1;32mif\u001b[0m \u001b[1;32mnot\u001b[0m \u001b[0mdata\u001b[0m\u001b[1;33m:\u001b[0m\u001b[1;33m\u001b[0m\u001b[1;33m\u001b[0m\u001b[0m\n\u001b[0;32m    527\u001b[0m                     \u001b[1;32mbreak\u001b[0m\u001b[1;33m\u001b[0m\u001b[1;33m\u001b[0m\u001b[0m\n",
      "\u001b[1;32mf:\\App\\anaconda\\lib\\http\\client.py\u001b[0m in \u001b[0;36mread\u001b[1;34m(self, amt)\u001b[0m\n\u001b[0;32m    460\u001b[0m             \u001b[1;31m# Amount is given, implement using readinto\u001b[0m\u001b[1;33m\u001b[0m\u001b[1;33m\u001b[0m\u001b[0m\n\u001b[0;32m    461\u001b[0m             \u001b[0mb\u001b[0m \u001b[1;33m=\u001b[0m \u001b[0mbytearray\u001b[0m\u001b[1;33m(\u001b[0m\u001b[0mamt\u001b[0m\u001b[1;33m)\u001b[0m\u001b[1;33m\u001b[0m\u001b[1;33m\u001b[0m\u001b[0m\n\u001b[1;32m--> 462\u001b[1;33m             \u001b[0mn\u001b[0m \u001b[1;33m=\u001b[0m \u001b[0mself\u001b[0m\u001b[1;33m.\u001b[0m\u001b[0mreadinto\u001b[0m\u001b[1;33m(\u001b[0m\u001b[0mb\u001b[0m\u001b[1;33m)\u001b[0m\u001b[1;33m\u001b[0m\u001b[1;33m\u001b[0m\u001b[0m\n\u001b[0m\u001b[0;32m    463\u001b[0m             \u001b[1;32mreturn\u001b[0m \u001b[0mmemoryview\u001b[0m\u001b[1;33m(\u001b[0m\u001b[0mb\u001b[0m\u001b[1;33m)\u001b[0m\u001b[1;33m[\u001b[0m\u001b[1;33m:\u001b[0m\u001b[0mn\u001b[0m\u001b[1;33m]\u001b[0m\u001b[1;33m.\u001b[0m\u001b[0mtobytes\u001b[0m\u001b[1;33m(\u001b[0m\u001b[1;33m)\u001b[0m\u001b[1;33m\u001b[0m\u001b[1;33m\u001b[0m\u001b[0m\n\u001b[0;32m    464\u001b[0m         \u001b[1;32melse\u001b[0m\u001b[1;33m:\u001b[0m\u001b[1;33m\u001b[0m\u001b[1;33m\u001b[0m\u001b[0m\n",
      "\u001b[1;32mf:\\App\\anaconda\\lib\\http\\client.py\u001b[0m in \u001b[0;36mreadinto\u001b[1;34m(self, b)\u001b[0m\n\u001b[0;32m    504\u001b[0m         \u001b[1;31m# connection, and the user is reading more bytes than will be provided\u001b[0m\u001b[1;33m\u001b[0m\u001b[1;33m\u001b[0m\u001b[0m\n\u001b[0;32m    505\u001b[0m         \u001b[1;31m# (for example, reading in 1k chunks)\u001b[0m\u001b[1;33m\u001b[0m\u001b[1;33m\u001b[0m\u001b[0m\n\u001b[1;32m--> 506\u001b[1;33m         \u001b[0mn\u001b[0m \u001b[1;33m=\u001b[0m \u001b[0mself\u001b[0m\u001b[1;33m.\u001b[0m\u001b[0mfp\u001b[0m\u001b[1;33m.\u001b[0m\u001b[0mreadinto\u001b[0m\u001b[1;33m(\u001b[0m\u001b[0mb\u001b[0m\u001b[1;33m)\u001b[0m\u001b[1;33m\u001b[0m\u001b[1;33m\u001b[0m\u001b[0m\n\u001b[0m\u001b[0;32m    507\u001b[0m         \u001b[1;32mif\u001b[0m \u001b[1;32mnot\u001b[0m \u001b[0mn\u001b[0m \u001b[1;32mand\u001b[0m \u001b[0mb\u001b[0m\u001b[1;33m:\u001b[0m\u001b[1;33m\u001b[0m\u001b[1;33m\u001b[0m\u001b[0m\n\u001b[0;32m    508\u001b[0m             \u001b[1;31m# Ideally, we would raise IncompleteRead if the content-length\u001b[0m\u001b[1;33m\u001b[0m\u001b[1;33m\u001b[0m\u001b[0m\n",
      "\u001b[1;32mf:\\App\\anaconda\\lib\\socket.py\u001b[0m in \u001b[0;36mreadinto\u001b[1;34m(self, b)\u001b[0m\n\u001b[0;32m    702\u001b[0m         \u001b[1;32mwhile\u001b[0m \u001b[1;32mTrue\u001b[0m\u001b[1;33m:\u001b[0m\u001b[1;33m\u001b[0m\u001b[1;33m\u001b[0m\u001b[0m\n\u001b[0;32m    703\u001b[0m             \u001b[1;32mtry\u001b[0m\u001b[1;33m:\u001b[0m\u001b[1;33m\u001b[0m\u001b[1;33m\u001b[0m\u001b[0m\n\u001b[1;32m--> 704\u001b[1;33m                 \u001b[1;32mreturn\u001b[0m \u001b[0mself\u001b[0m\u001b[1;33m.\u001b[0m\u001b[0m_sock\u001b[0m\u001b[1;33m.\u001b[0m\u001b[0mrecv_into\u001b[0m\u001b[1;33m(\u001b[0m\u001b[0mb\u001b[0m\u001b[1;33m)\u001b[0m\u001b[1;33m\u001b[0m\u001b[1;33m\u001b[0m\u001b[0m\n\u001b[0m\u001b[0;32m    705\u001b[0m             \u001b[1;32mexcept\u001b[0m \u001b[0mtimeout\u001b[0m\u001b[1;33m:\u001b[0m\u001b[1;33m\u001b[0m\u001b[1;33m\u001b[0m\u001b[0m\n\u001b[0;32m    706\u001b[0m                 \u001b[0mself\u001b[0m\u001b[1;33m.\u001b[0m\u001b[0m_timeout_occurred\u001b[0m \u001b[1;33m=\u001b[0m \u001b[1;32mTrue\u001b[0m\u001b[1;33m\u001b[0m\u001b[1;33m\u001b[0m\u001b[0m\n",
      "\u001b[1;32mf:\\App\\anaconda\\lib\\ssl.py\u001b[0m in \u001b[0;36mrecv_into\u001b[1;34m(self, buffer, nbytes, flags)\u001b[0m\n\u001b[0;32m   1239\u001b[0m                   \u001b[1;34m\"non-zero flags not allowed in calls to recv_into() on %s\"\u001b[0m \u001b[1;33m%\u001b[0m\u001b[1;33m\u001b[0m\u001b[1;33m\u001b[0m\u001b[0m\n\u001b[0;32m   1240\u001b[0m                   self.__class__)\n\u001b[1;32m-> 1241\u001b[1;33m             \u001b[1;32mreturn\u001b[0m \u001b[0mself\u001b[0m\u001b[1;33m.\u001b[0m\u001b[0mread\u001b[0m\u001b[1;33m(\u001b[0m\u001b[0mnbytes\u001b[0m\u001b[1;33m,\u001b[0m \u001b[0mbuffer\u001b[0m\u001b[1;33m)\u001b[0m\u001b[1;33m\u001b[0m\u001b[1;33m\u001b[0m\u001b[0m\n\u001b[0m\u001b[0;32m   1242\u001b[0m         \u001b[1;32melse\u001b[0m\u001b[1;33m:\u001b[0m\u001b[1;33m\u001b[0m\u001b[1;33m\u001b[0m\u001b[0m\n\u001b[0;32m   1243\u001b[0m             \u001b[1;32mreturn\u001b[0m \u001b[0msuper\u001b[0m\u001b[1;33m(\u001b[0m\u001b[1;33m)\u001b[0m\u001b[1;33m.\u001b[0m\u001b[0mrecv_into\u001b[0m\u001b[1;33m(\u001b[0m\u001b[0mbuffer\u001b[0m\u001b[1;33m,\u001b[0m \u001b[0mnbytes\u001b[0m\u001b[1;33m,\u001b[0m \u001b[0mflags\u001b[0m\u001b[1;33m)\u001b[0m\u001b[1;33m\u001b[0m\u001b[1;33m\u001b[0m\u001b[0m\n",
      "\u001b[1;32mf:\\App\\anaconda\\lib\\ssl.py\u001b[0m in \u001b[0;36mread\u001b[1;34m(self, len, buffer)\u001b[0m\n\u001b[0;32m   1097\u001b[0m         \u001b[1;32mtry\u001b[0m\u001b[1;33m:\u001b[0m\u001b[1;33m\u001b[0m\u001b[1;33m\u001b[0m\u001b[0m\n\u001b[0;32m   1098\u001b[0m             \u001b[1;32mif\u001b[0m \u001b[0mbuffer\u001b[0m \u001b[1;32mis\u001b[0m \u001b[1;32mnot\u001b[0m \u001b[1;32mNone\u001b[0m\u001b[1;33m:\u001b[0m\u001b[1;33m\u001b[0m\u001b[1;33m\u001b[0m\u001b[0m\n\u001b[1;32m-> 1099\u001b[1;33m                 \u001b[1;32mreturn\u001b[0m \u001b[0mself\u001b[0m\u001b[1;33m.\u001b[0m\u001b[0m_sslobj\u001b[0m\u001b[1;33m.\u001b[0m\u001b[0mread\u001b[0m\u001b[1;33m(\u001b[0m\u001b[0mlen\u001b[0m\u001b[1;33m,\u001b[0m \u001b[0mbuffer\u001b[0m\u001b[1;33m)\u001b[0m\u001b[1;33m\u001b[0m\u001b[1;33m\u001b[0m\u001b[0m\n\u001b[0m\u001b[0;32m   1100\u001b[0m             \u001b[1;32melse\u001b[0m\u001b[1;33m:\u001b[0m\u001b[1;33m\u001b[0m\u001b[1;33m\u001b[0m\u001b[0m\n\u001b[0;32m   1101\u001b[0m                 \u001b[1;32mreturn\u001b[0m \u001b[0mself\u001b[0m\u001b[1;33m.\u001b[0m\u001b[0m_sslobj\u001b[0m\u001b[1;33m.\u001b[0m\u001b[0mread\u001b[0m\u001b[1;33m(\u001b[0m\u001b[0mlen\u001b[0m\u001b[1;33m)\u001b[0m\u001b[1;33m\u001b[0m\u001b[1;33m\u001b[0m\u001b[0m\n",
      "\u001b[1;31mKeyboardInterrupt\u001b[0m: "
     ]
    }
   ],
   "source": [
    "import requests\n",
    "import tarfile\n",
    "from google.cloud import storage\n",
    "\n",
    "# Define variables\n",
    "url = 'https://dax-cdn.cdn.appdomain.cloud/dax-airline/1.0.1/airline.tar.gz'\n",
    "download_path = 'airline.tar.gz'  # Local path to save the tar.gz file\n",
    "bucket_name = 'bk9999airline'  # Replace with your GCS bucket name\n",
    "blob_name = 'airline.csv'  # Name of the file in the GCS bucket\n",
    "\n",
    "# Step 1: Download the file\n",
    "def download_file(url, destination):\n",
    "    print(f\"Starting download from {url}...\")\n",
    "    with requests.get(url, stream=True) as response:\n",
    "        response.raise_for_status()  # Check if the request was successful\n",
    "        total_size = int(response.headers.get('content-length', 0))  # Get file size\n",
    "        chunk_size = 1024 * 1024  # 1 MB per chunk\n",
    "        with open(destination, 'wb') as file:\n",
    "            downloaded = 0\n",
    "            for chunk in response.iter_content(chunk_size=chunk_size):\n",
    "                if chunk:  # Filter out keep-alive chunks\n",
    "                    file.write(chunk)\n",
    "                    downloaded += len(chunk)\n",
    "                    print(f\"Downloaded {downloaded / total_size * 100:.2f}%\")\n",
    "    print(f\"Download complete. File saved to {destination}.\")\n",
    "\n",
    "# Step 2: Extract and upload the file in chunks\n",
    "def extract_and_stream_upload(file_path, bucket_name, blob_name):\n",
    "    print(f\"Extracting and uploading from {file_path} to GCS bucket: {bucket_name}/{blob_name}...\")\n",
    "    storage_client = storage.Client()\n",
    "    bucket = storage_client.bucket(bucket_name)\n",
    "    blob = bucket.blob(blob_name)\n",
    "\n",
    "    # Open the tar.gz file\n",
    "    with tarfile.open(file_path, 'r:gz') as tar:\n",
    "        members = tar.getmembers()\n",
    "        if len(members) == 1:\n",
    "            member = members[0]\n",
    "            print(f\"Processing {member.name}...\")\n",
    "            \n",
    "            # Read the extracted file in chunks and upload\n",
    "            with tar.extractfile(member) as file_obj:\n",
    "                chunk_size = 1024 * 1024 * 1024  \n",
    "                while True:\n",
    "                    chunk = file_obj.read(chunk_size)\n",
    "                    if not chunk:\n",
    "                        break\n",
    "                    blob.upload_from_string(chunk, content_type='application/octet-stream', if_generation_match=None)\n",
    "                    print(f\"Uploaded {len(chunk)} bytes to GCS.\")\n",
    "        else:\n",
    "            raise ValueError(\"The archive contains more than one file.\")\n",
    "    print(f\"File successfully uploaded to gs://{bucket_name}/{blob_name}\")\n",
    "\n",
    "# Download the file\n",
    "download_file(url, download_path)\n"
   ]
  },
  {
   "cell_type": "code",
   "execution_count": 17,
   "metadata": {},
   "outputs": [
    {
     "name": "stdout",
     "output_type": "stream",
     "text": [
      "Extracting and uploading from airline.tar.gz to GCS bucket: bk9999_airline/airline.csv...\n"
     ]
    },
    {
     "ename": "DefaultCredentialsError",
     "evalue": "Your default credentials were not found. To set up Application Default Credentials, see https://cloud.google.com/docs/authentication/external/set-up-adc for more information.",
     "output_type": "error",
     "traceback": [
      "\u001b[1;31m---------------------------------------------------------------------------\u001b[0m",
      "\u001b[1;31mDefaultCredentialsError\u001b[0m                   Traceback (most recent call last)",
      "\u001b[1;32m~\\AppData\\Local\\Temp/ipykernel_5652/3332449794.py\u001b[0m in \u001b[0;36m<module>\u001b[1;34m\u001b[0m\n\u001b[1;32m----> 1\u001b[1;33m \u001b[0mextract_and_stream_upload\u001b[0m\u001b[1;33m(\u001b[0m\u001b[0mdownload_path\u001b[0m\u001b[1;33m,\u001b[0m \u001b[0mbucket_name\u001b[0m\u001b[1;33m,\u001b[0m \u001b[0mblob_name\u001b[0m\u001b[1;33m)\u001b[0m\u001b[1;33m\u001b[0m\u001b[1;33m\u001b[0m\u001b[0m\n\u001b[0m",
      "\u001b[1;32m~\\AppData\\Local\\Temp/ipykernel_5652/1155005467.py\u001b[0m in \u001b[0;36mextract_and_stream_upload\u001b[1;34m(file_path, bucket_name, blob_name)\u001b[0m\n\u001b[0;32m     28\u001b[0m \u001b[1;32mdef\u001b[0m \u001b[0mextract_and_stream_upload\u001b[0m\u001b[1;33m(\u001b[0m\u001b[0mfile_path\u001b[0m\u001b[1;33m,\u001b[0m \u001b[0mbucket_name\u001b[0m\u001b[1;33m,\u001b[0m \u001b[0mblob_name\u001b[0m\u001b[1;33m)\u001b[0m\u001b[1;33m:\u001b[0m\u001b[1;33m\u001b[0m\u001b[1;33m\u001b[0m\u001b[0m\n\u001b[0;32m     29\u001b[0m     \u001b[0mprint\u001b[0m\u001b[1;33m(\u001b[0m\u001b[1;34mf\"Extracting and uploading from {file_path} to GCS bucket: {bucket_name}/{blob_name}...\"\u001b[0m\u001b[1;33m)\u001b[0m\u001b[1;33m\u001b[0m\u001b[1;33m\u001b[0m\u001b[0m\n\u001b[1;32m---> 30\u001b[1;33m     \u001b[0mstorage_client\u001b[0m \u001b[1;33m=\u001b[0m \u001b[0mstorage\u001b[0m\u001b[1;33m.\u001b[0m\u001b[0mClient\u001b[0m\u001b[1;33m(\u001b[0m\u001b[1;33m)\u001b[0m\u001b[1;33m\u001b[0m\u001b[1;33m\u001b[0m\u001b[0m\n\u001b[0m\u001b[0;32m     31\u001b[0m     \u001b[0mbucket\u001b[0m \u001b[1;33m=\u001b[0m \u001b[0mstorage_client\u001b[0m\u001b[1;33m.\u001b[0m\u001b[0mbucket\u001b[0m\u001b[1;33m(\u001b[0m\u001b[0mbucket_name\u001b[0m\u001b[1;33m)\u001b[0m\u001b[1;33m\u001b[0m\u001b[1;33m\u001b[0m\u001b[0m\n\u001b[0;32m     32\u001b[0m     \u001b[0mblob\u001b[0m \u001b[1;33m=\u001b[0m \u001b[0mbucket\u001b[0m\u001b[1;33m.\u001b[0m\u001b[0mblob\u001b[0m\u001b[1;33m(\u001b[0m\u001b[0mblob_name\u001b[0m\u001b[1;33m)\u001b[0m\u001b[1;33m\u001b[0m\u001b[1;33m\u001b[0m\u001b[0m\n",
      "\u001b[1;32mf:\\App\\anaconda\\lib\\site-packages\\google\\cloud\\storage\\client.py\u001b[0m in \u001b[0;36m__init__\u001b[1;34m(self, project, credentials, _http, client_info, client_options, use_auth_w_custom_endpoint, extra_headers)\u001b[0m\n\u001b[0;32m    226\u001b[0m                     \u001b[0mproject\u001b[0m \u001b[1;33m=\u001b[0m \u001b[1;34m\"<none>\"\u001b[0m\u001b[1;33m\u001b[0m\u001b[1;33m\u001b[0m\u001b[0m\n\u001b[0;32m    227\u001b[0m \u001b[1;33m\u001b[0m\u001b[0m\n\u001b[1;32m--> 228\u001b[1;33m         super(Client, self).__init__(\n\u001b[0m\u001b[0;32m    229\u001b[0m             \u001b[0mproject\u001b[0m\u001b[1;33m=\u001b[0m\u001b[0mproject\u001b[0m\u001b[1;33m,\u001b[0m\u001b[1;33m\u001b[0m\u001b[1;33m\u001b[0m\u001b[0m\n\u001b[0;32m    230\u001b[0m             \u001b[0mcredentials\u001b[0m\u001b[1;33m=\u001b[0m\u001b[0mcredentials\u001b[0m\u001b[1;33m,\u001b[0m\u001b[1;33m\u001b[0m\u001b[1;33m\u001b[0m\u001b[0m\n",
      "\u001b[1;32mf:\\App\\anaconda\\lib\\site-packages\\google\\cloud\\client\\__init__.py\u001b[0m in \u001b[0;36m__init__\u001b[1;34m(self, project, credentials, client_options, _http)\u001b[0m\n\u001b[0;32m    318\u001b[0m \u001b[1;33m\u001b[0m\u001b[0m\n\u001b[0;32m    319\u001b[0m     \u001b[1;32mdef\u001b[0m \u001b[0m__init__\u001b[0m\u001b[1;33m(\u001b[0m\u001b[0mself\u001b[0m\u001b[1;33m,\u001b[0m \u001b[0mproject\u001b[0m\u001b[1;33m=\u001b[0m\u001b[1;32mNone\u001b[0m\u001b[1;33m,\u001b[0m \u001b[0mcredentials\u001b[0m\u001b[1;33m=\u001b[0m\u001b[1;32mNone\u001b[0m\u001b[1;33m,\u001b[0m \u001b[0mclient_options\u001b[0m\u001b[1;33m=\u001b[0m\u001b[1;32mNone\u001b[0m\u001b[1;33m,\u001b[0m \u001b[0m_http\u001b[0m\u001b[1;33m=\u001b[0m\u001b[1;32mNone\u001b[0m\u001b[1;33m)\u001b[0m\u001b[1;33m:\u001b[0m\u001b[1;33m\u001b[0m\u001b[1;33m\u001b[0m\u001b[0m\n\u001b[1;32m--> 320\u001b[1;33m         \u001b[0m_ClientProjectMixin\u001b[0m\u001b[1;33m.\u001b[0m\u001b[0m__init__\u001b[0m\u001b[1;33m(\u001b[0m\u001b[0mself\u001b[0m\u001b[1;33m,\u001b[0m \u001b[0mproject\u001b[0m\u001b[1;33m=\u001b[0m\u001b[0mproject\u001b[0m\u001b[1;33m,\u001b[0m \u001b[0mcredentials\u001b[0m\u001b[1;33m=\u001b[0m\u001b[0mcredentials\u001b[0m\u001b[1;33m)\u001b[0m\u001b[1;33m\u001b[0m\u001b[1;33m\u001b[0m\u001b[0m\n\u001b[0m\u001b[0;32m    321\u001b[0m         Client.__init__(\n\u001b[0;32m    322\u001b[0m             \u001b[0mself\u001b[0m\u001b[1;33m,\u001b[0m \u001b[0mcredentials\u001b[0m\u001b[1;33m=\u001b[0m\u001b[0mcredentials\u001b[0m\u001b[1;33m,\u001b[0m \u001b[0mclient_options\u001b[0m\u001b[1;33m=\u001b[0m\u001b[0mclient_options\u001b[0m\u001b[1;33m,\u001b[0m \u001b[0m_http\u001b[0m\u001b[1;33m=\u001b[0m\u001b[0m_http\u001b[0m\u001b[1;33m\u001b[0m\u001b[1;33m\u001b[0m\u001b[0m\n",
      "\u001b[1;32mf:\\App\\anaconda\\lib\\site-packages\\google\\cloud\\client\\__init__.py\u001b[0m in \u001b[0;36m__init__\u001b[1;34m(self, project, credentials)\u001b[0m\n\u001b[0;32m    266\u001b[0m \u001b[1;33m\u001b[0m\u001b[0m\n\u001b[0;32m    267\u001b[0m         \u001b[1;32mif\u001b[0m \u001b[0mproject\u001b[0m \u001b[1;32mis\u001b[0m \u001b[1;32mNone\u001b[0m\u001b[1;33m:\u001b[0m\u001b[1;33m\u001b[0m\u001b[1;33m\u001b[0m\u001b[0m\n\u001b[1;32m--> 268\u001b[1;33m             \u001b[0mproject\u001b[0m \u001b[1;33m=\u001b[0m \u001b[0mself\u001b[0m\u001b[1;33m.\u001b[0m\u001b[0m_determine_default\u001b[0m\u001b[1;33m(\u001b[0m\u001b[0mproject\u001b[0m\u001b[1;33m)\u001b[0m\u001b[1;33m\u001b[0m\u001b[1;33m\u001b[0m\u001b[0m\n\u001b[0m\u001b[0;32m    269\u001b[0m \u001b[1;33m\u001b[0m\u001b[0m\n\u001b[0;32m    270\u001b[0m         \u001b[1;32mif\u001b[0m \u001b[0mproject\u001b[0m \u001b[1;32mis\u001b[0m \u001b[1;32mNone\u001b[0m\u001b[1;33m:\u001b[0m\u001b[1;33m\u001b[0m\u001b[1;33m\u001b[0m\u001b[0m\n",
      "\u001b[1;32mf:\\App\\anaconda\\lib\\site-packages\\google\\cloud\\client\\__init__.py\u001b[0m in \u001b[0;36m_determine_default\u001b[1;34m(project)\u001b[0m\n\u001b[0;32m    285\u001b[0m     \u001b[1;32mdef\u001b[0m \u001b[0m_determine_default\u001b[0m\u001b[1;33m(\u001b[0m\u001b[0mproject\u001b[0m\u001b[1;33m)\u001b[0m\u001b[1;33m:\u001b[0m\u001b[1;33m\u001b[0m\u001b[1;33m\u001b[0m\u001b[0m\n\u001b[0;32m    286\u001b[0m         \u001b[1;34m\"\"\"Helper:  use default project detection.\"\"\"\u001b[0m\u001b[1;33m\u001b[0m\u001b[1;33m\u001b[0m\u001b[0m\n\u001b[1;32m--> 287\u001b[1;33m         \u001b[1;32mreturn\u001b[0m \u001b[0m_determine_default_project\u001b[0m\u001b[1;33m(\u001b[0m\u001b[0mproject\u001b[0m\u001b[1;33m)\u001b[0m\u001b[1;33m\u001b[0m\u001b[1;33m\u001b[0m\u001b[0m\n\u001b[0m\u001b[0;32m    288\u001b[0m \u001b[1;33m\u001b[0m\u001b[0m\n\u001b[0;32m    289\u001b[0m \u001b[1;33m\u001b[0m\u001b[0m\n",
      "\u001b[1;32mf:\\App\\anaconda\\lib\\site-packages\\google\\cloud\\_helpers\\__init__.py\u001b[0m in \u001b[0;36m_determine_default_project\u001b[1;34m(project)\u001b[0m\n\u001b[0;32m    150\u001b[0m     \"\"\"\n\u001b[0;32m    151\u001b[0m     \u001b[1;32mif\u001b[0m \u001b[0mproject\u001b[0m \u001b[1;32mis\u001b[0m \u001b[1;32mNone\u001b[0m\u001b[1;33m:\u001b[0m\u001b[1;33m\u001b[0m\u001b[1;33m\u001b[0m\u001b[0m\n\u001b[1;32m--> 152\u001b[1;33m         \u001b[0m_\u001b[0m\u001b[1;33m,\u001b[0m \u001b[0mproject\u001b[0m \u001b[1;33m=\u001b[0m \u001b[0mgoogle\u001b[0m\u001b[1;33m.\u001b[0m\u001b[0mauth\u001b[0m\u001b[1;33m.\u001b[0m\u001b[0mdefault\u001b[0m\u001b[1;33m(\u001b[0m\u001b[1;33m)\u001b[0m\u001b[1;33m\u001b[0m\u001b[1;33m\u001b[0m\u001b[0m\n\u001b[0m\u001b[0;32m    153\u001b[0m     \u001b[1;32mreturn\u001b[0m \u001b[0mproject\u001b[0m\u001b[1;33m\u001b[0m\u001b[1;33m\u001b[0m\u001b[0m\n\u001b[0;32m    154\u001b[0m \u001b[1;33m\u001b[0m\u001b[0m\n",
      "\u001b[1;32mf:\\App\\anaconda\\lib\\site-packages\\google\\auth\\_default.py\u001b[0m in \u001b[0;36mdefault\u001b[1;34m(scopes, request, quota_project_id, default_scopes)\u001b[0m\n\u001b[0;32m    695\u001b[0m             \u001b[1;32mreturn\u001b[0m \u001b[0mcredentials\u001b[0m\u001b[1;33m,\u001b[0m \u001b[0meffective_project_id\u001b[0m\u001b[1;33m\u001b[0m\u001b[1;33m\u001b[0m\u001b[0m\n\u001b[0;32m    696\u001b[0m \u001b[1;33m\u001b[0m\u001b[0m\n\u001b[1;32m--> 697\u001b[1;33m     \u001b[1;32mraise\u001b[0m \u001b[0mexceptions\u001b[0m\u001b[1;33m.\u001b[0m\u001b[0mDefaultCredentialsError\u001b[0m\u001b[1;33m(\u001b[0m\u001b[0m_CLOUD_SDK_MISSING_CREDENTIALS\u001b[0m\u001b[1;33m)\u001b[0m\u001b[1;33m\u001b[0m\u001b[1;33m\u001b[0m\u001b[0m\n\u001b[0m",
      "\u001b[1;31mDefaultCredentialsError\u001b[0m: Your default credentials were not found. To set up Application Default Credentials, see https://cloud.google.com/docs/authentication/external/set-up-adc for more information."
     ]
    }
   ],
   "source": [
    "extract_and_stream_upload(download_path, bucket_name, blob_name)"
   ]
  },
  {
   "cell_type": "code",
   "execution_count": 24,
   "metadata": {},
   "outputs": [],
   "source": [
    "import os \n",
    "os.environ[\"GOOGLE_APPLICATION_CREDENTIALS\"]=\"F:\\\\setup files\\\\downloads\\\\totemic-program-442307-i9-cdc0176778ce.json\"\n",
    "\n",
    "bucket_name = 'bk9999_airline'  # Replace with your GCS bucket name\n",
    "blob_name = 'test.csv'  # Name of the file in the GCS bucket\n",
    "destination_file_name = 'airline.tar.gz'  # Local path to save the file\n",
    "\n",
    "def upload_blob(bucket_name, blob_name, destination_file_name):\n",
    "    \"\"\"Uploads a file to the bucket.\"\"\"\n",
    "    storage_client = storage.Client()\n",
    "    bucket = storage_client.bucket(bucket_name)\n",
    "    blob = bucket.blob(blob_name)\n",
    "\n",
    "    blob.upload_from_filename(destination_file_name)\n",
    "\n",
    "    print(f\"File {destination_file_name} uploaded to {blob_name}.\")"
   ]
  },
  {
   "cell_type": "code",
   "execution_count": 25,
   "metadata": {},
   "outputs": [
    {
     "name": "stdout",
     "output_type": "stream",
     "text": [
      "File airline.tar.gz uploaded to test.csv.\n"
     ]
    }
   ],
   "source": [
    "upload_blob(bucket_name, blob_name, destination_file_name)"
   ]
  },
  {
   "cell_type": "code",
   "execution_count": 1,
   "metadata": {},
   "outputs": [
    {
     "name": "stdout",
     "output_type": "stream",
     "text": [
      "Requirement already satisfied: prefect in c:\\users\\admin\\appdata\\roaming\\python\\python39\\site-packages (3.1.5)\n",
      "Requirement already satisfied: cachetools<6.0,>=5.3 in c:\\users\\admin\\appdata\\roaming\\python\\python39\\site-packages (from prefect) (5.3.1)\n",
      "Requirement already satisfied: toml>=0.10.0 in f:\\app\\anaconda\\lib\\site-packages (from prefect) (0.10.2)\n",
      "Requirement already satisfied: uvicorn!=0.29.0,>=0.14.0 in c:\\users\\admin\\appdata\\roaming\\python\\python39\\site-packages (from prefect) (0.32.1)\n",
      "Requirement already satisfied: croniter<6.0.0,>=1.0.12 in c:\\users\\admin\\appdata\\roaming\\python\\python39\\site-packages (from prefect) (5.0.1)\n",
      "Requirement already satisfied: pytz<2025,>=2021.1 in f:\\app\\anaconda\\lib\\site-packages (from prefect) (2021.3)\n",
      "Requirement already satisfied: alembic<2.0.0,>=1.7.5 in c:\\users\\admin\\appdata\\roaming\\python\\python39\\site-packages (from prefect) (1.14.0)\n",
      "Requirement already satisfied: importlib_metadata>=4.4 in f:\\app\\anaconda\\lib\\site-packages (from prefect) (8.5.0)\n",
      "Requirement already satisfied: ruamel.yaml>=0.17.0 in c:\\users\\admin\\appdata\\roaming\\python\\python39\\site-packages (from prefect) (0.18.6)\n",
      "Requirement already satisfied: fastapi<1.0.0,>=0.111.0 in c:\\users\\admin\\appdata\\roaming\\python\\python39\\site-packages (from prefect) (0.115.6)\n",
      "Requirement already satisfied: cryptography>=36.0.1 in c:\\users\\admin\\appdata\\roaming\\python\\python39\\site-packages (from prefect) (44.0.0)\n",
      "Requirement already satisfied: aiosqlite<1.0.0,>=0.17.0 in c:\\users\\admin\\appdata\\roaming\\python\\python39\\site-packages (from prefect) (0.20.0)\n",
      "Requirement already satisfied: readchar<5.0.0,>=4.0.0 in c:\\users\\admin\\appdata\\roaming\\python\\python39\\site-packages (from prefect) (4.2.1)\n",
      "Requirement already satisfied: packaging<24.3,>=21.3 in f:\\app\\anaconda\\lib\\site-packages (from prefect) (24.1)\n",
      "Requirement already satisfied: sqlalchemy[asyncio]<3.0.0,>=2.0 in f:\\app\\anaconda\\lib\\site-packages (from prefect) (2.0.36)\n",
      "Requirement already satisfied: asyncpg<1.0.0,>=0.23 in c:\\users\\admin\\appdata\\roaming\\python\\python39\\site-packages (from prefect) (0.30.0)\n",
      "Requirement already satisfied: pyyaml<7.0.0,>=5.4.1 in f:\\app\\anaconda\\lib\\site-packages (from prefect) (6.0)\n",
      "Requirement already satisfied: cloudpickle<4.0,>=2.0 in f:\\app\\anaconda\\lib\\site-packages (from prefect) (2.0.0)\n",
      "Requirement already satisfied: dateparser<2.0.0,>=1.1.1 in c:\\users\\admin\\appdata\\roaming\\python\\python39\\site-packages (from prefect) (1.2.0)\n",
      "Requirement already satisfied: pydantic_core<3.0.0,>=2.12.0 in f:\\app\\anaconda\\lib\\site-packages (from prefect) (2.23.3)\n",
      "Requirement already satisfied: typing_extensions<5.0.0,>=4.5.0 in f:\\app\\anaconda\\lib\\site-packages (from prefect) (4.11.0)\n",
      "Requirement already satisfied: jsonpatch<2.0,>=1.32 in f:\\app\\anaconda\\lib\\site-packages (from prefect) (1.33)\n",
      "Requirement already satisfied: jinja2<4.0.0,>=3.0.0 in c:\\users\\admin\\appdata\\roaming\\python\\python39\\site-packages (from prefect) (3.1.4)\n",
      "Requirement already satisfied: anyio<5.0.0,>=4.4.0 in f:\\app\\anaconda\\lib\\site-packages (from prefect) (4.4.0)\n",
      "Requirement already satisfied: pydantic_extra_types<3.0.0,>=2.8.2 in c:\\users\\admin\\appdata\\roaming\\python\\python39\\site-packages (from prefect) (2.10.1)\n",
      "Requirement already satisfied: pathspec>=0.8.0 in c:\\users\\admin\\appdata\\roaming\\python\\python39\\site-packages (from prefect) (0.12.1)\n",
      "Requirement already satisfied: prometheus-client>=0.20.0 in c:\\users\\admin\\appdata\\roaming\\python\\python39\\site-packages (from prefect) (0.21.1)\n",
      "Requirement already satisfied: rfc3339-validator<0.2.0,>=0.1.4 in c:\\users\\admin\\appdata\\roaming\\python\\python39\\site-packages (from prefect) (0.1.4)\n",
      "Requirement already satisfied: sniffio<2.0.0,>=1.3.0 in f:\\app\\anaconda\\lib\\site-packages (from prefect) (1.3.1)\n",
      "Requirement already satisfied: pendulum<4,>=3.0.0 in c:\\users\\admin\\appdata\\roaming\\python\\python39\\site-packages (from prefect) (3.0.0)\n",
      "Requirement already satisfied: orjson<4.0,>=3.7 in f:\\app\\anaconda\\lib\\site-packages (from prefect) (3.10.7)\n",
      "Requirement already satisfied: exceptiongroup>=1.0.0 in f:\\app\\anaconda\\lib\\site-packages (from prefect) (1.2.2)\n",
      "Requirement already satisfied: humanize<5.0.0,>=4.9.0 in c:\\users\\admin\\appdata\\roaming\\python\\python39\\site-packages (from prefect) (4.11.0)\n",
      "Requirement already satisfied: pydantic_settings>2.2.1 in f:\\app\\anaconda\\lib\\site-packages (from prefect) (2.5.2)\n",
      "Requirement already satisfied: docker<8.0,>=4.0 in c:\\users\\admin\\appdata\\roaming\\python\\python39\\site-packages (from prefect) (7.1.0)\n",
      "Requirement already satisfied: graphviz>=0.20.1 in c:\\users\\admin\\appdata\\roaming\\python\\python39\\site-packages (from prefect) (0.20.3)\n",
      "Requirement already satisfied: asgi-lifespan<3.0,>=1.0 in c:\\users\\admin\\appdata\\roaming\\python\\python39\\site-packages (from prefect) (2.1.0)\n",
      "Requirement already satisfied: coolname<3.0.0,>=1.0.4 in c:\\users\\admin\\appdata\\roaming\\python\\python39\\site-packages (from prefect) (2.2.0)\n",
      "Requirement already satisfied: jsonschema<5.0.0,>=4.0.0 in c:\\users\\admin\\appdata\\roaming\\python\\python39\\site-packages (from prefect) (4.23.0)\n",
      "Requirement already satisfied: griffe<2.0.0,>=0.49.0 in c:\\users\\admin\\appdata\\roaming\\python\\python39\\site-packages (from prefect) (1.5.1)\n",
      "Requirement already satisfied: ujson<6.0.0,>=5.8.0 in c:\\users\\admin\\appdata\\roaming\\python\\python39\\site-packages (from prefect) (5.10.0)\n",
      "Requirement already satisfied: pydantic!=2.10.0,<3.0.0,>=2.7 in f:\\app\\anaconda\\lib\\site-packages (from prefect) (2.9.1)\n",
      "Requirement already satisfied: websockets<14.0,>=10.4 in c:\\users\\admin\\appdata\\roaming\\python\\python39\\site-packages (from prefect) (13.1)\n",
      "Requirement already satisfied: jinja2-humanize-extension>=0.4.0 in c:\\users\\admin\\appdata\\roaming\\python\\python39\\site-packages (from prefect) (0.4.0)\n",
      "Requirement already satisfied: httpcore<2.0.0,>=1.0.5 in f:\\app\\anaconda\\lib\\site-packages (from prefect) (1.0.5)\n",
      "Requirement already satisfied: fsspec>=2022.5.0 in f:\\app\\anaconda\\lib\\site-packages (from prefect) (2024.9.0)\n",
      "Requirement already satisfied: opentelemetry-api<2.0.0,>=1.27.0 in c:\\users\\admin\\appdata\\roaming\\python\\python39\\site-packages (from prefect) (1.28.2)\n",
      "Requirement already satisfied: apprise<2.0.0,>=1.1.0 in c:\\users\\admin\\appdata\\roaming\\python\\python39\\site-packages (from prefect) (1.9.0)\n",
      "Requirement already satisfied: rich<14.0,>=11.0 in f:\\app\\anaconda\\lib\\site-packages (from prefect) (13.9.4)\n",
      "Requirement already satisfied: httpx[http2]!=0.23.2,>=0.23 in f:\\app\\anaconda\\lib\\site-packages (from prefect) (0.27.2)\n",
      "Requirement already satisfied: python_dateutil<3.0.0,>=2.8.2 in f:\\app\\anaconda\\lib\\site-packages (from prefect) (2.8.2)\n",
      "Requirement already satisfied: typer!=0.12.2,<0.14.0,>=0.12.0 in c:\\users\\admin\\appdata\\roaming\\python\\python39\\site-packages (from prefect) (0.13.1)\n",
      "Requirement already satisfied: click<8.2,>=8.0 in f:\\app\\anaconda\\lib\\site-packages (from prefect) (8.0.3)\n",
      "Requirement already satisfied: python-slugify<9.0,>=5.0 in f:\\app\\anaconda\\lib\\site-packages (from prefect) (5.0.2)\n",
      "Requirement already satisfied: Mako in c:\\users\\admin\\appdata\\roaming\\python\\python39\\site-packages (from alembic<2.0.0,>=1.7.5->prefect) (1.3.8)\n",
      "Requirement already satisfied: idna>=2.8 in f:\\app\\anaconda\\lib\\site-packages (from anyio<5.0.0,>=4.4.0->prefect) (3.2)\n",
      "Requirement already satisfied: requests in c:\\users\\admin\\appdata\\roaming\\python\\python39\\site-packages (from apprise<2.0.0,>=1.1.0->prefect) (2.31.0)\n",
      "Requirement already satisfied: markdown in c:\\users\\admin\\appdata\\roaming\\python\\python39\\site-packages (from apprise<2.0.0,>=1.1.0->prefect) (3.7)\n",
      "Requirement already satisfied: certifi in f:\\app\\anaconda\\lib\\site-packages (from apprise<2.0.0,>=1.1.0->prefect) (2024.6.2)\n",
      "Requirement already satisfied: requests-oauthlib in f:\\app\\anaconda\\lib\\site-packages (from apprise<2.0.0,>=1.1.0->prefect) (2.0.0)\n",
      "Requirement already satisfied: async-timeout>=4.0.3 in f:\\app\\anaconda\\lib\\site-packages (from asyncpg<1.0.0,>=0.23->prefect) (4.0.3)\n",
      "Requirement already satisfied: colorama in f:\\app\\anaconda\\lib\\site-packages (from click<8.2,>=8.0->prefect) (0.4.4)\n",
      "Requirement already satisfied: cffi>=1.12 in f:\\app\\anaconda\\lib\\site-packages (from cryptography>=36.0.1->prefect) (1.14.6)\n",
      "Requirement already satisfied: pycparser in f:\\app\\anaconda\\lib\\site-packages (from cffi>=1.12->cryptography>=36.0.1->prefect) (2.20)\n",
      "Requirement already satisfied: regex!=2019.02.19,!=2021.8.27 in f:\\app\\anaconda\\lib\\site-packages (from dateparser<2.0.0,>=1.1.1->prefect) (2024.9.11)\n",
      "Requirement already satisfied: tzlocal in f:\\app\\anaconda\\lib\\site-packages (from dateparser<2.0.0,>=1.1.1->prefect) (5.2)\n",
      "Requirement already satisfied: pywin32>=304 in c:\\users\\admin\\appdata\\roaming\\python\\python39\\site-packages (from docker<8.0,>=4.0->prefect) (308)\n",
      "Requirement already satisfied: urllib3>=1.26.0 in f:\\app\\anaconda\\lib\\site-packages (from docker<8.0,>=4.0->prefect) (1.26.19)\n",
      "Requirement already satisfied: starlette<0.42.0,>=0.40.0 in f:\\app\\anaconda\\lib\\site-packages (from fastapi<1.0.0,>=0.111.0->prefect) (0.41.3)\n",
      "Requirement already satisfied: h11<0.15,>=0.13 in f:\\app\\anaconda\\lib\\site-packages (from httpcore<2.0.0,>=1.0.5->prefect) (0.14.0)\n",
      "Requirement already satisfied: h2<5,>=3 in c:\\users\\admin\\appdata\\roaming\\python\\python39\\site-packages (from httpx[http2]!=0.23.2,>=0.23->prefect) (4.1.0)\n",
      "Requirement already satisfied: hyperframe<7,>=6.0 in f:\\app\\anaconda\\lib\\site-packages (from h2<5,>=3->httpx[http2]!=0.23.2,>=0.23->prefect) (6.0.1)\n",
      "Requirement already satisfied: hpack<5,>=4.0 in f:\\app\\anaconda\\lib\\site-packages (from h2<5,>=3->httpx[http2]!=0.23.2,>=0.23->prefect) (4.0.0)\n",
      "Requirement already satisfied: zipp>=3.20 in f:\\app\\anaconda\\lib\\site-packages (from importlib_metadata>=4.4->prefect) (3.21.0)\n",
      "Requirement already satisfied: MarkupSafe>=2.0 in f:\\app\\anaconda\\lib\\site-packages (from jinja2<4.0.0,>=3.0.0->prefect) (3.0.2)\n",
      "Requirement already satisfied: jsonpointer>=1.9 in f:\\app\\anaconda\\lib\\site-packages (from jsonpatch<2.0,>=1.32->prefect) (3.0.0)\n",
      "Requirement already satisfied: referencing>=0.28.4 in f:\\app\\anaconda\\lib\\site-packages (from jsonschema<5.0.0,>=4.0.0->prefect) (0.35.1)\n",
      "Requirement already satisfied: rpds-py>=0.7.1 in f:\\app\\anaconda\\lib\\site-packages (from jsonschema<5.0.0,>=4.0.0->prefect) (0.22.3)\n",
      "Requirement already satisfied: attrs>=22.2.0 in f:\\app\\anaconda\\lib\\site-packages (from jsonschema<5.0.0,>=4.0.0->prefect) (24.2.0)\n",
      "Requirement already satisfied: jsonschema-specifications>=2023.03.6 in c:\\users\\admin\\appdata\\roaming\\python\\python39\\site-packages (from jsonschema<5.0.0,>=4.0.0->prefect) (2024.10.1)\n",
      "Requirement already satisfied: deprecated>=1.2.6 in c:\\users\\admin\\appdata\\roaming\\python\\python39\\site-packages (from opentelemetry-api<2.0.0,>=1.27.0->prefect) (1.2.15)\n",
      "Requirement already satisfied: wrapt<2,>=1.10 in f:\\app\\anaconda\\lib\\site-packages (from deprecated>=1.2.6->opentelemetry-api<2.0.0,>=1.27.0->prefect) (1.12.1)\n",
      "Requirement already satisfied: tzdata>=2020.1 in c:\\users\\admin\\appdata\\roaming\\python\\python39\\site-packages (from pendulum<4,>=3.0.0->prefect) (2024.1)\n",
      "Requirement already satisfied: time-machine>=2.6.0 in f:\\app\\anaconda\\lib\\site-packages (from pendulum<4,>=3.0.0->prefect) (2.16.0)\n",
      "Requirement already satisfied: annotated-types>=0.6.0 in f:\\app\\anaconda\\lib\\site-packages (from pydantic!=2.10.0,<3.0.0,>=2.7->prefect) (0.7.0)\n",
      "Requirement already satisfied: python-dotenv>=0.21.0 in f:\\app\\anaconda\\lib\\site-packages (from pydantic_settings>2.2.1->prefect) (1.0.1)\n",
      "Requirement already satisfied: six>=1.5 in f:\\app\\anaconda\\lib\\site-packages (from python_dateutil<3.0.0,>=2.8.2->prefect) (1.16.0)\n",
      "Requirement already satisfied: text-unidecode>=1.3 in f:\\app\\anaconda\\lib\\site-packages (from python-slugify<9.0,>=5.0->prefect) (1.3)\n",
      "Requirement already satisfied: charset-normalizer<4,>=2 in f:\\app\\anaconda\\lib\\site-packages (from requests->apprise<2.0.0,>=1.1.0->prefect) (2.0.4)\n",
      "Requirement already satisfied: pygments<3.0.0,>=2.13.0 in f:\\app\\anaconda\\lib\\site-packages (from rich<14.0,>=11.0->prefect) (2.18.0)\n",
      "Requirement already satisfied: markdown-it-py>=2.2.0 in f:\\app\\anaconda\\lib\\site-packages (from rich<14.0,>=11.0->prefect) (3.0.0)\n",
      "Requirement already satisfied: mdurl~=0.1 in f:\\app\\anaconda\\lib\\site-packages (from markdown-it-py>=2.2.0->rich<14.0,>=11.0->prefect) (0.1.2)\n",
      "Requirement already satisfied: ruamel.yaml.clib>=0.2.7 in f:\\app\\anaconda\\lib\\site-packages (from ruamel.yaml>=0.17.0->prefect) (0.2.12)\n",
      "Requirement already satisfied: greenlet!=0.4.17 in f:\\app\\anaconda\\lib\\site-packages (from sqlalchemy[asyncio]<3.0.0,>=2.0->prefect) (1.1.1)\n",
      "Requirement already satisfied: shellingham>=1.3.0 in f:\\app\\anaconda\\lib\\site-packages (from typer!=0.12.2,<0.14.0,>=0.12.0->prefect) (1.5.4)\n",
      "Requirement already satisfied: oauthlib>=3.0.0 in f:\\app\\anaconda\\lib\\site-packages (from requests-oauthlib->apprise<2.0.0,>=1.1.0->prefect) (3.2.2)\n"
     ]
    }
   ],
   "source": [
    "!python -m pip install prefect\n"
   ]
  },
  {
   "cell_type": "code",
   "execution_count": 2,
   "metadata": {},
   "outputs": [
    {
     "name": "stdout",
     "output_type": "stream",
     "text": [
      "\n",
      "Note: you may need to restart the kernel to use updated packages.\n"
     ]
    }
   ],
   "source": [
    "conda deactivate\n"
   ]
  },
  {
   "cell_type": "code",
   "execution_count": 4,
   "metadata": {},
   "outputs": [
    {
     "name": "stderr",
     "output_type": "stream",
     "text": [
      "'prefect' is not recognized as an internal or external command,\n",
      "operable program or batch file.\n"
     ]
    }
   ],
   "source": [
    "!prefect version"
   ]
  },
  {
   "cell_type": "code",
   "execution_count": 5,
   "metadata": {},
   "outputs": [
    {
     "name": "stdout",
     "output_type": "stream",
     "text": [
      "Requirement already satisfied: prefect in c:\\users\\admin\\appdata\\roaming\\python\\python39\\site-packages (3.1.5)\n",
      "Requirement already satisfied: pydantic_settings>2.2.1 in f:\\app\\anaconda\\lib\\site-packages (from prefect) (2.5.2)\n",
      "Requirement already satisfied: pydantic_core<3.0.0,>=2.12.0 in f:\\app\\anaconda\\lib\\site-packages (from prefect) (2.23.3)\n",
      "Requirement already satisfied: python_dateutil<3.0.0,>=2.8.2 in f:\\app\\anaconda\\lib\\site-packages (from prefect) (2.8.2)\n",
      "Requirement already satisfied: readchar<5.0.0,>=4.0.0 in c:\\users\\admin\\appdata\\roaming\\python\\python39\\site-packages (from prefect) (4.2.1)\n",
      "Requirement already satisfied: typing_extensions<5.0.0,>=4.5.0 in f:\\app\\anaconda\\lib\\site-packages (from prefect) (4.11.0)\n",
      "Requirement already satisfied: dateparser<2.0.0,>=1.1.1 in c:\\users\\admin\\appdata\\roaming\\python\\python39\\site-packages (from prefect) (1.2.0)\n",
      "Requirement already satisfied: anyio<5.0.0,>=4.4.0 in f:\\app\\anaconda\\lib\\site-packages (from prefect) (4.4.0)\n",
      "Requirement already satisfied: opentelemetry-api<2.0.0,>=1.27.0 in c:\\users\\admin\\appdata\\roaming\\python\\python39\\site-packages (from prefect) (1.28.2)\n",
      "Requirement already satisfied: orjson<4.0,>=3.7 in f:\\app\\anaconda\\lib\\site-packages (from prefect) (3.10.7)\n",
      "Requirement already satisfied: click<8.2,>=8.0 in f:\\app\\anaconda\\lib\\site-packages (from prefect) (8.0.3)\n",
      "Requirement already satisfied: httpx[http2]!=0.23.2,>=0.23 in f:\\app\\anaconda\\lib\\site-packages (from prefect) (0.27.2)\n",
      "Requirement already satisfied: docker<8.0,>=4.0 in c:\\users\\admin\\appdata\\roaming\\python\\python39\\site-packages (from prefect) (7.1.0)\n",
      "Requirement already satisfied: asgi-lifespan<3.0,>=1.0 in c:\\users\\admin\\appdata\\roaming\\python\\python39\\site-packages (from prefect) (2.1.0)\n",
      "Requirement already satisfied: cloudpickle<4.0,>=2.0 in f:\\app\\anaconda\\lib\\site-packages (from prefect) (2.0.0)\n",
      "Requirement already satisfied: pydantic_extra_types<3.0.0,>=2.8.2 in c:\\users\\admin\\appdata\\roaming\\python\\python39\\site-packages (from prefect) (2.10.1)\n",
      "Requirement already satisfied: jinja2<4.0.0,>=3.0.0 in c:\\users\\admin\\appdata\\roaming\\python\\python39\\site-packages (from prefect) (3.1.4)\n",
      "Requirement already satisfied: exceptiongroup>=1.0.0 in f:\\app\\anaconda\\lib\\site-packages (from prefect) (1.2.2)\n",
      "Requirement already satisfied: jsonschema<5.0.0,>=4.0.0 in c:\\users\\admin\\appdata\\roaming\\python\\python39\\site-packages (from prefect) (4.23.0)\n",
      "Requirement already satisfied: ujson<6.0.0,>=5.8.0 in c:\\users\\admin\\appdata\\roaming\\python\\python39\\site-packages (from prefect) (5.10.0)\n",
      "Requirement already satisfied: pytz<2025,>=2021.1 in f:\\app\\anaconda\\lib\\site-packages (from prefect) (2021.3)\n",
      "Requirement already satisfied: prometheus-client>=0.20.0 in c:\\users\\admin\\appdata\\roaming\\python\\python39\\site-packages (from prefect) (0.21.1)\n",
      "Requirement already satisfied: asyncpg<1.0.0,>=0.23 in c:\\users\\admin\\appdata\\roaming\\python\\python39\\site-packages (from prefect) (0.30.0)\n",
      "Requirement already satisfied: jinja2-humanize-extension>=0.4.0 in c:\\users\\admin\\appdata\\roaming\\python\\python39\\site-packages (from prefect) (0.4.0)\n",
      "Requirement already satisfied: graphviz>=0.20.1 in c:\\users\\admin\\appdata\\roaming\\python\\python39\\site-packages (from prefect) (0.20.3)\n",
      "Requirement already satisfied: cachetools<6.0,>=5.3 in c:\\users\\admin\\appdata\\roaming\\python\\python39\\site-packages (from prefect) (5.3.1)\n",
      "Requirement already satisfied: humanize<5.0.0,>=4.9.0 in c:\\users\\admin\\appdata\\roaming\\python\\python39\\site-packages (from prefect) (4.11.0)\n",
      "Requirement already satisfied: apprise<2.0.0,>=1.1.0 in c:\\users\\admin\\appdata\\roaming\\python\\python39\\site-packages (from prefect) (1.9.0)\n",
      "Requirement already satisfied: pendulum<4,>=3.0.0 in c:\\users\\admin\\appdata\\roaming\\python\\python39\\site-packages (from prefect) (3.0.0)\n",
      "Requirement already satisfied: typer!=0.12.2,<0.14.0,>=0.12.0 in c:\\users\\admin\\appdata\\roaming\\python\\python39\\site-packages (from prefect) (0.13.1)\n",
      "Requirement already satisfied: httpcore<2.0.0,>=1.0.5 in f:\\app\\anaconda\\lib\\site-packages (from prefect) (1.0.5)\n",
      "Requirement already satisfied: uvicorn!=0.29.0,>=0.14.0 in c:\\users\\admin\\appdata\\roaming\\python\\python39\\site-packages (from prefect) (0.32.1)\n",
      "Requirement already satisfied: cryptography>=36.0.1 in c:\\users\\admin\\appdata\\roaming\\python\\python39\\site-packages (from prefect) (44.0.0)\n",
      "Requirement already satisfied: sqlalchemy[asyncio]<3.0.0,>=2.0 in f:\\app\\anaconda\\lib\\site-packages (from prefect) (2.0.36)\n",
      "Requirement already satisfied: pathspec>=0.8.0 in c:\\users\\admin\\appdata\\roaming\\python\\python39\\site-packages (from prefect) (0.12.1)\n",
      "Requirement already satisfied: packaging<24.3,>=21.3 in f:\\app\\anaconda\\lib\\site-packages (from prefect) (24.1)\n",
      "Requirement already satisfied: alembic<2.0.0,>=1.7.5 in c:\\users\\admin\\appdata\\roaming\\python\\python39\\site-packages (from prefect) (1.14.0)\n",
      "Requirement already satisfied: coolname<3.0.0,>=1.0.4 in c:\\users\\admin\\appdata\\roaming\\python\\python39\\site-packages (from prefect) (2.2.0)\n",
      "Requirement already satisfied: ruamel.yaml>=0.17.0 in c:\\users\\admin\\appdata\\roaming\\python\\python39\\site-packages (from prefect) (0.18.6)\n",
      "Requirement already satisfied: websockets<14.0,>=10.4 in c:\\users\\admin\\appdata\\roaming\\python\\python39\\site-packages (from prefect) (13.1)\n",
      "Requirement already satisfied: croniter<6.0.0,>=1.0.12 in c:\\users\\admin\\appdata\\roaming\\python\\python39\\site-packages (from prefect) (5.0.1)\n",
      "Requirement already satisfied: jsonpatch<2.0,>=1.32 in f:\\app\\anaconda\\lib\\site-packages (from prefect) (1.33)\n",
      "Requirement already satisfied: python-slugify<9.0,>=5.0 in f:\\app\\anaconda\\lib\\site-packages (from prefect) (5.0.2)\n",
      "Requirement already satisfied: pyyaml<7.0.0,>=5.4.1 in f:\\app\\anaconda\\lib\\site-packages (from prefect) (6.0)\n",
      "Requirement already satisfied: importlib_metadata>=4.4 in f:\\app\\anaconda\\lib\\site-packages (from prefect) (8.5.0)\n",
      "Requirement already satisfied: rfc3339-validator<0.2.0,>=0.1.4 in c:\\users\\admin\\appdata\\roaming\\python\\python39\\site-packages (from prefect) (0.1.4)\n",
      "Requirement already satisfied: aiosqlite<1.0.0,>=0.17.0 in c:\\users\\admin\\appdata\\roaming\\python\\python39\\site-packages (from prefect) (0.20.0)\n",
      "Requirement already satisfied: sniffio<2.0.0,>=1.3.0 in f:\\app\\anaconda\\lib\\site-packages (from prefect) (1.3.1)\n",
      "Requirement already satisfied: griffe<2.0.0,>=0.49.0 in c:\\users\\admin\\appdata\\roaming\\python\\python39\\site-packages (from prefect) (1.5.1)Note: you may need to restart the kernel to use updated packages.\n",
      "\n",
      "Requirement already satisfied: pydantic!=2.10.0,<3.0.0,>=2.7 in f:\\app\\anaconda\\lib\\site-packages (from prefect) (2.9.1)\n",
      "Requirement already satisfied: fastapi<1.0.0,>=0.111.0 in c:\\users\\admin\\appdata\\roaming\\python\\python39\\site-packages (from prefect) (0.115.6)\n",
      "Requirement already satisfied: toml>=0.10.0 in f:\\app\\anaconda\\lib\\site-packages (from prefect) (0.10.2)\n",
      "Requirement already satisfied: rich<14.0,>=11.0 in f:\\app\\anaconda\\lib\\site-packages (from prefect) (13.9.4)\n",
      "Requirement already satisfied: fsspec>=2022.5.0 in f:\\app\\anaconda\\lib\\site-packages (from prefect) (2024.9.0)\n",
      "Requirement already satisfied: Mako in c:\\users\\admin\\appdata\\roaming\\python\\python39\\site-packages (from alembic<2.0.0,>=1.7.5->prefect) (1.3.8)\n",
      "Requirement already satisfied: idna>=2.8 in f:\\app\\anaconda\\lib\\site-packages (from anyio<5.0.0,>=4.4.0->prefect) (3.2)\n",
      "Requirement already satisfied: requests-oauthlib in f:\\app\\anaconda\\lib\\site-packages (from apprise<2.0.0,>=1.1.0->prefect) (2.0.0)\n",
      "Requirement already satisfied: certifi in f:\\app\\anaconda\\lib\\site-packages (from apprise<2.0.0,>=1.1.0->prefect) (2024.6.2)\n",
      "Requirement already satisfied: markdown in c:\\users\\admin\\appdata\\roaming\\python\\python39\\site-packages (from apprise<2.0.0,>=1.1.0->prefect) (3.7)\n",
      "Requirement already satisfied: requests in c:\\users\\admin\\appdata\\roaming\\python\\python39\\site-packages (from apprise<2.0.0,>=1.1.0->prefect) (2.31.0)\n",
      "Requirement already satisfied: async-timeout>=4.0.3 in f:\\app\\anaconda\\lib\\site-packages (from asyncpg<1.0.0,>=0.23->prefect) (4.0.3)\n",
      "Requirement already satisfied: colorama in f:\\app\\anaconda\\lib\\site-packages (from click<8.2,>=8.0->prefect) (0.4.4)\n",
      "Requirement already satisfied: cffi>=1.12 in f:\\app\\anaconda\\lib\\site-packages (from cryptography>=36.0.1->prefect) (1.14.6)\n",
      "Requirement already satisfied: pycparser in f:\\app\\anaconda\\lib\\site-packages (from cffi>=1.12->cryptography>=36.0.1->prefect) (2.20)\n",
      "Requirement already satisfied: regex!=2019.02.19,!=2021.8.27 in f:\\app\\anaconda\\lib\\site-packages (from dateparser<2.0.0,>=1.1.1->prefect) (2024.9.11)\n",
      "Requirement already satisfied: tzlocal in f:\\app\\anaconda\\lib\\site-packages (from dateparser<2.0.0,>=1.1.1->prefect) (5.2)\n",
      "Requirement already satisfied: pywin32>=304 in c:\\users\\admin\\appdata\\roaming\\python\\python39\\site-packages (from docker<8.0,>=4.0->prefect) (308)\n",
      "Requirement already satisfied: urllib3>=1.26.0 in f:\\app\\anaconda\\lib\\site-packages (from docker<8.0,>=4.0->prefect) (1.26.19)\n",
      "Requirement already satisfied: starlette<0.42.0,>=0.40.0 in f:\\app\\anaconda\\lib\\site-packages (from fastapi<1.0.0,>=0.111.0->prefect) (0.41.3)\n",
      "Requirement already satisfied: h11<0.15,>=0.13 in f:\\app\\anaconda\\lib\\site-packages (from httpcore<2.0.0,>=1.0.5->prefect) (0.14.0)\n",
      "Requirement already satisfied: h2<5,>=3 in c:\\users\\admin\\appdata\\roaming\\python\\python39\\site-packages (from httpx[http2]!=0.23.2,>=0.23->prefect) (4.1.0)\n",
      "Requirement already satisfied: hyperframe<7,>=6.0 in f:\\app\\anaconda\\lib\\site-packages (from h2<5,>=3->httpx[http2]!=0.23.2,>=0.23->prefect) (6.0.1)\n",
      "Requirement already satisfied: hpack<5,>=4.0 in f:\\app\\anaconda\\lib\\site-packages (from h2<5,>=3->httpx[http2]!=0.23.2,>=0.23->prefect) (4.0.0)\n",
      "Requirement already satisfied: zipp>=3.20 in f:\\app\\anaconda\\lib\\site-packages (from importlib_metadata>=4.4->prefect) (3.21.0)\n",
      "Requirement already satisfied: MarkupSafe>=2.0 in f:\\app\\anaconda\\lib\\site-packages (from jinja2<4.0.0,>=3.0.0->prefect) (3.0.2)\n",
      "Requirement already satisfied: jsonpointer>=1.9 in f:\\app\\anaconda\\lib\\site-packages (from jsonpatch<2.0,>=1.32->prefect) (3.0.0)\n",
      "Requirement already satisfied: rpds-py>=0.7.1 in f:\\app\\anaconda\\lib\\site-packages (from jsonschema<5.0.0,>=4.0.0->prefect) (0.22.3)\n",
      "Requirement already satisfied: referencing>=0.28.4 in f:\\app\\anaconda\\lib\\site-packages (from jsonschema<5.0.0,>=4.0.0->prefect) (0.35.1)\n",
      "Requirement already satisfied: jsonschema-specifications>=2023.03.6 in c:\\users\\admin\\appdata\\roaming\\python\\python39\\site-packages (from jsonschema<5.0.0,>=4.0.0->prefect) (2024.10.1)\n",
      "Requirement already satisfied: attrs>=22.2.0 in f:\\app\\anaconda\\lib\\site-packages (from jsonschema<5.0.0,>=4.0.0->prefect) (24.2.0)\n",
      "Requirement already satisfied: deprecated>=1.2.6 in c:\\users\\admin\\appdata\\roaming\\python\\python39\\site-packages (from opentelemetry-api<2.0.0,>=1.27.0->prefect) (1.2.15)\n",
      "Requirement already satisfied: wrapt<2,>=1.10 in f:\\app\\anaconda\\lib\\site-packages (from deprecated>=1.2.6->opentelemetry-api<2.0.0,>=1.27.0->prefect) (1.12.1)\n",
      "Requirement already satisfied: time-machine>=2.6.0 in f:\\app\\anaconda\\lib\\site-packages (from pendulum<4,>=3.0.0->prefect) (2.16.0)\n",
      "Requirement already satisfied: tzdata>=2020.1 in c:\\users\\admin\\appdata\\roaming\\python\\python39\\site-packages (from pendulum<4,>=3.0.0->prefect) (2024.1)\n",
      "Requirement already satisfied: annotated-types>=0.6.0 in f:\\app\\anaconda\\lib\\site-packages (from pydantic!=2.10.0,<3.0.0,>=2.7->prefect) (0.7.0)\n",
      "Requirement already satisfied: python-dotenv>=0.21.0 in f:\\app\\anaconda\\lib\\site-packages (from pydantic_settings>2.2.1->prefect) (1.0.1)\n",
      "Requirement already satisfied: six>=1.5 in f:\\app\\anaconda\\lib\\site-packages (from python_dateutil<3.0.0,>=2.8.2->prefect) (1.16.0)\n",
      "Requirement already satisfied: text-unidecode>=1.3 in f:\\app\\anaconda\\lib\\site-packages (from python-slugify<9.0,>=5.0->prefect) (1.3)\n",
      "Requirement already satisfied: charset-normalizer<4,>=2 in f:\\app\\anaconda\\lib\\site-packages (from requests->apprise<2.0.0,>=1.1.0->prefect) (2.0.4)\n",
      "Requirement already satisfied: markdown-it-py>=2.2.0 in f:\\app\\anaconda\\lib\\site-packages (from rich<14.0,>=11.0->prefect) (3.0.0)\n",
      "Requirement already satisfied: pygments<3.0.0,>=2.13.0 in f:\\app\\anaconda\\lib\\site-packages (from rich<14.0,>=11.0->prefect) (2.18.0)\n",
      "Requirement already satisfied: mdurl~=0.1 in f:\\app\\anaconda\\lib\\site-packages (from markdown-it-py>=2.2.0->rich<14.0,>=11.0->prefect) (0.1.2)\n",
      "Requirement already satisfied: ruamel.yaml.clib>=0.2.7 in f:\\app\\anaconda\\lib\\site-packages (from ruamel.yaml>=0.17.0->prefect) (0.2.12)\n",
      "Requirement already satisfied: greenlet!=0.4.17 in f:\\app\\anaconda\\lib\\site-packages (from sqlalchemy[asyncio]<3.0.0,>=2.0->prefect) (1.1.1)\n",
      "Requirement already satisfied: shellingham>=1.3.0 in f:\\app\\anaconda\\lib\\site-packages (from typer!=0.12.2,<0.14.0,>=0.12.0->prefect) (1.5.4)\n",
      "Requirement already satisfied: oauthlib>=3.0.0 in f:\\app\\anaconda\\lib\\site-packages (from requests-oauthlib->apprise<2.0.0,>=1.1.0->prefect) (3.2.2)\n"
     ]
    }
   ],
   "source": [
    "pip install prefect\n"
   ]
  },
  {
   "cell_type": "code",
   "execution_count": null,
   "metadata": {},
   "outputs": [],
   "source": []
  }
 ],
 "metadata": {
  "kernelspec": {
   "display_name": "base",
   "language": "python",
   "name": "python3"
  },
  "language_info": {
   "codemirror_mode": {
    "name": "ipython",
    "version": 3
   },
   "file_extension": ".py",
   "mimetype": "text/x-python",
   "name": "python",
   "nbconvert_exporter": "python",
   "pygments_lexer": "ipython3",
   "version": "3.9.7"
  }
 },
 "nbformat": 4,
 "nbformat_minor": 2
}
